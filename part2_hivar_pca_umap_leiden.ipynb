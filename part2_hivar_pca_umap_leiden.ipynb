{
 "cells": [
  {
   "cell_type": "code",
   "execution_count": 3,
   "metadata": {},
   "outputs": [],
   "source": [
    "import numpy as np\n",
    "import matplotlib.pyplot as plt\n",
    "import pandas as pd\n",
    "\n",
    "import os\n",
    "import sys\n",
    "sys.path.append(os.path.abspath(\"./utility_functions\"))\n",
    "\n",
    "import rz_functions as rz\n",
    "import rz_utility_spring as srz\n",
    "import scanpy as sc\n",
    "import scipy as sp\n",
    "import scrublet as scr\n",
    "#sc.logging.print_versions()\n",
    "sc.settings.verbosity = 2\n",
    "\n",
    "from time import time\n"
   ]
  },
  {
   "cell_type": "code",
   "execution_count": 4,
   "metadata": {},
   "outputs": [],
   "source": [
    "#!{sys.executable} -m pip install leidenalg"
   ]
  },
  {
   "cell_type": "markdown",
   "metadata": {},
   "source": [
    "# Load and check filtering from part 1"
   ]
  },
  {
   "cell_type": "code",
   "execution_count": 5,
   "metadata": {},
   "outputs": [
    {
     "name": "stderr",
     "output_type": "stream",
     "text": [
      "/home/ng136/miniconda3/envs/py36/lib/python3.6/site-packages/scipy/sparse/_index.py:118: SparseEfficiencyWarning: Changing the sparsity structure of a csr_matrix is expensive. lil_matrix is more efficient.\n",
      "  self._set_arrayXarray_sparse(i, j, x)\n",
      "/home/ng136/miniconda3/envs/py36/lib/python3.6/site-packages/scipy/sparse/_index.py:126: SparseEfficiencyWarning: Changing the sparsity structure of a csr_matrix is expensive. lil_matrix is more efficient.\n",
      "  self._set_arrayXarray(i, j, x)\n"
     ]
    },
    {
     "data": {
      "image/png": "[encoded data removed]",
      "text/plain": [
       "<Figure size 432x288 with 2 Axes>"
      ]
     },
     "metadata": {
      "needs_background": "light"
     },
     "output_type": "display_data"
    },
    {
     "data": {
      "text/html": [
       "<div>\n",
       "<style scoped>\n",
       "    .dataframe tbody tr th:only-of-type {\n",
       "        vertical-align: middle;\n",
       "    }\n",
       "\n",
       "    .dataframe tbody tr th {\n",
       "        vertical-align: top;\n",
       "    }\n",
       "\n",
       "    .dataframe thead th {\n",
       "        text-align: right;\n",
       "    }\n",
       "</style>\n",
       "<table border=\"1\" class=\"dataframe\">\n",
       "  <thead>\n",
       "    <tr style=\"text-align: right;\">\n",
       "      <th></th>\n",
       "      <th>barcode</th>\n",
       "      <th>group</th>\n",
       "      <th>library_name</th>\n",
       "      <th>marker</th>\n",
       "      <th>max_mt</th>\n",
       "      <th>min_tot</th>\n",
       "      <th>mito_frac</th>\n",
       "      <th>n_counts</th>\n",
       "      <th>n_genes</th>\n",
       "      <th>pool</th>\n",
       "      <th>tissue</th>\n",
       "      <th>treatment</th>\n",
       "    </tr>\n",
       "  </thead>\n",
       "  <tbody>\n",
       "    <tr>\n",
       "      <th>48-pool1</th>\n",
       "      <td>AAACAAACAGAGGATAAGACACCA</td>\n",
       "      <td>B</td>\n",
       "      <td>Liver_CD45pos_NT_B</td>\n",
       "      <td>CD45pos</td>\n",
       "      <td>0.15</td>\n",
       "      <td>200</td>\n",
       "      <td>0.040964</td>\n",
       "      <td>415.0</td>\n",
       "      <td>348</td>\n",
       "      <td>pool1</td>\n",
       "      <td>Liver</td>\n",
       "      <td>NT</td>\n",
       "    </tr>\n",
       "    <tr>\n",
       "      <th>98-pool1</th>\n",
       "      <td>AAACAAACAGAGGATACAATACTT</td>\n",
       "      <td>B</td>\n",
       "      <td>Liver_CD45pos_NT_B</td>\n",
       "      <td>CD45pos</td>\n",
       "      <td>0.15</td>\n",
       "      <td>200</td>\n",
       "      <td>0.005613</td>\n",
       "      <td>1069.0</td>\n",
       "      <td>581</td>\n",
       "      <td>pool1</td>\n",
       "      <td>Liver</td>\n",
       "      <td>NT</td>\n",
       "    </tr>\n",
       "    <tr>\n",
       "      <th>237-pool1</th>\n",
       "      <td>AAACAAACAGAGGATAGGCCCTTA</td>\n",
       "      <td>B</td>\n",
       "      <td>Liver_CD45pos_NT_B</td>\n",
       "      <td>CD45pos</td>\n",
       "      <td>0.15</td>\n",
       "      <td>200</td>\n",
       "      <td>0.035451</td>\n",
       "      <td>677.0</td>\n",
       "      <td>470</td>\n",
       "      <td>pool1</td>\n",
       "      <td>Liver</td>\n",
       "      <td>NT</td>\n",
       "    </tr>\n",
       "    <tr>\n",
       "      <th>246-pool1</th>\n",
       "      <td>AAACAAACAGAGGATAGGGAGGTA</td>\n",
       "      <td>B</td>\n",
       "      <td>Liver_CD45pos_NT_B</td>\n",
       "      <td>CD45pos</td>\n",
       "      <td>0.15</td>\n",
       "      <td>200</td>\n",
       "      <td>0.018000</td>\n",
       "      <td>500.0</td>\n",
       "      <td>374</td>\n",
       "      <td>pool1</td>\n",
       "      <td>Liver</td>\n",
       "      <td>NT</td>\n",
       "    </tr>\n",
       "    <tr>\n",
       "      <th>342-pool1</th>\n",
       "      <td>AAACAAACAGAGGATATGGCTACC</td>\n",
       "      <td>B</td>\n",
       "      <td>Liver_CD45pos_NT_B</td>\n",
       "      <td>CD45pos</td>\n",
       "      <td>0.15</td>\n",
       "      <td>200</td>\n",
       "      <td>0.035088</td>\n",
       "      <td>627.0</td>\n",
       "      <td>318</td>\n",
       "      <td>pool1</td>\n",
       "      <td>Liver</td>\n",
       "      <td>NT</td>\n",
       "    </tr>\n",
       "  </tbody>\n",
       "</table>\n",
       "</div>"
      ],
      "text/plain": [
       "                            barcode group        library_name   marker  \\\n",
       "48-pool1   AAACAAACAGAGGATAAGACACCA     B  Liver_CD45pos_NT_B  CD45pos   \n",
       "98-pool1   AAACAAACAGAGGATACAATACTT     B  Liver_CD45pos_NT_B  CD45pos   \n",
       "237-pool1  AAACAAACAGAGGATAGGCCCTTA     B  Liver_CD45pos_NT_B  CD45pos   \n",
       "246-pool1  AAACAAACAGAGGATAGGGAGGTA     B  Liver_CD45pos_NT_B  CD45pos   \n",
       "342-pool1  AAACAAACAGAGGATATGGCTACC     B  Liver_CD45pos_NT_B  CD45pos   \n",
       "\n",
       "           max_mt  min_tot  mito_frac  n_counts  n_genes   pool tissue  \\\n",
       "48-pool1     0.15      200   0.040964     415.0      348  pool1  Liver   \n",
       "98-pool1     0.15      200   0.005613    1069.0      581  pool1  Liver   \n",
       "237-pool1    0.15      200   0.035451     677.0      470  pool1  Liver   \n",
       "246-pool1    0.15      200   0.018000     500.0      374  pool1  Liver   \n",
       "342-pool1    0.15      200   0.035088     627.0      318  pool1  Liver   \n",
       "\n",
       "          treatment  \n",
       "48-pool1         NT  \n",
       "98-pool1         NT  \n",
       "237-pool1        NT  \n",
       "246-pool1        NT  \n",
       "342-pool1        NT  "
      ]
     },
     "execution_count": 5,
     "metadata": {},
     "output_type": "execute_result"
    }
   ],
   "source": [
    "adata_raw = sc.read_h5ad('backups/tox_marie_filtered_merged_35358x22631_backup_200404_17h27.h5ad')\n",
    "adata = adata_raw\n",
    "\n",
    "#all the UMIs from eYFP report IL12B expression\n",
    "adata[:,['Il12b']].X = adata_raw[:,['Il12b', 'eYFP']].X.sum(1)\n",
    "adata[:,['eYFP']].X = 0\n",
    "\n",
    "adata_counts = adata.X.todense()\n",
    "adata_counts = np.array(adata_counts).reshape(-1)\n",
    "\n",
    "fig, axes = plt.subplots(2)\n",
    "\n",
    "axes[0].plot(100 - np.logspace(1,-4,10), np.percentile(adata_counts, 100 - np.logspace(1,-10,10)))\n",
    "axes[0].set_xlabel('Counts matrix percentile')\n",
    "axes[0].set_ylabel('Counts')\n",
    "axes[0].set_ylim([0, np.max(adata_counts)*1.1])\n",
    "axes[0].set_yticks(np.linspace(0, np.max(adata_counts), 10))\n",
    "\n",
    "\n",
    "axes[1].hist(adata.X.sum(1).A1, bins=20)\n",
    "axes[1].set_xlabel('Total Counts in cell')\n",
    "axes[1].set_ylabel('Number of cells')\n",
    "\n",
    "plt.tight_layout()\n",
    "plt.show()\n",
    "\n",
    "adata.obs.head()\n"
   ]
  },
  {
   "cell_type": "markdown",
   "metadata": {},
   "source": [
    "# Normalize for 10,000 counts per cell and check head again"
   ]
  },
  {
   "cell_type": "markdown",
   "metadata": {},
   "source": [
    "## _\"normalization assumes that all cells in the dataset initially contained an equal number of mRNA molecules and count depth differences arise only due to sampling.\"_"
   ]
  },
  {
   "cell_type": "code",
   "execution_count": 6,
   "metadata": {},
   "outputs": [
    {
     "name": "stdout",
     "output_type": "stream",
     "text": [
      "normalizing counts per cell\n",
      "    finished (0:00:00)\n"
     ]
    },
    {
     "data": {
      "image/png": "[encoded data removed]",
      "text/plain": [
       "<Figure size 432x288 with 2 Axes>"
      ]
     },
     "metadata": {
      "needs_background": "light"
     },
     "output_type": "display_data"
    },
    {
     "data": {
      "text/html": [
       "<div>\n",
       "<style scoped>\n",
       "    .dataframe tbody tr th:only-of-type {\n",
       "        vertical-align: middle;\n",
       "    }\n",
       "\n",
       "    .dataframe tbody tr th {\n",
       "        vertical-align: top;\n",
       "    }\n",
       "\n",
       "    .dataframe thead th {\n",
       "        text-align: right;\n",
       "    }\n",
       "</style>\n",
       "<table border=\"1\" class=\"dataframe\">\n",
       "  <thead>\n",
       "    <tr style=\"text-align: right;\">\n",
       "      <th></th>\n",
       "      <th>barcode</th>\n",
       "      <th>group</th>\n",
       "      <th>library_name</th>\n",
       "      <th>marker</th>\n",
       "      <th>max_mt</th>\n",
       "      <th>min_tot</th>\n",
       "      <th>mito_frac</th>\n",
       "      <th>n_counts</th>\n",
       "      <th>n_genes</th>\n",
       "      <th>pool</th>\n",
       "      <th>tissue</th>\n",
       "      <th>treatment</th>\n",
       "    </tr>\n",
       "  </thead>\n",
       "  <tbody>\n",
       "    <tr>\n",
       "      <th>48-pool1</th>\n",
       "      <td>AAACAAACAGAGGATAAGACACCA</td>\n",
       "      <td>B</td>\n",
       "      <td>Liver_CD45pos_NT_B</td>\n",
       "      <td>CD45pos</td>\n",
       "      <td>0.15</td>\n",
       "      <td>200</td>\n",
       "      <td>0.040964</td>\n",
       "      <td>10000.000977</td>\n",
       "      <td>348</td>\n",
       "      <td>pool1</td>\n",
       "      <td>Liver</td>\n",
       "      <td>NT</td>\n",
       "    </tr>\n",
       "    <tr>\n",
       "      <th>98-pool1</th>\n",
       "      <td>AAACAAACAGAGGATACAATACTT</td>\n",
       "      <td>B</td>\n",
       "      <td>Liver_CD45pos_NT_B</td>\n",
       "      <td>CD45pos</td>\n",
       "      <td>0.15</td>\n",
       "      <td>200</td>\n",
       "      <td>0.005613</td>\n",
       "      <td>10000.000000</td>\n",
       "      <td>581</td>\n",
       "      <td>pool1</td>\n",
       "      <td>Liver</td>\n",
       "      <td>NT</td>\n",
       "    </tr>\n",
       "    <tr>\n",
       "      <th>237-pool1</th>\n",
       "      <td>AAACAAACAGAGGATAGGCCCTTA</td>\n",
       "      <td>B</td>\n",
       "      <td>Liver_CD45pos_NT_B</td>\n",
       "      <td>CD45pos</td>\n",
       "      <td>0.15</td>\n",
       "      <td>200</td>\n",
       "      <td>0.035451</td>\n",
       "      <td>10000.001953</td>\n",
       "      <td>470</td>\n",
       "      <td>pool1</td>\n",
       "      <td>Liver</td>\n",
       "      <td>NT</td>\n",
       "    </tr>\n",
       "    <tr>\n",
       "      <th>246-pool1</th>\n",
       "      <td>AAACAAACAGAGGATAGGGAGGTA</td>\n",
       "      <td>B</td>\n",
       "      <td>Liver_CD45pos_NT_B</td>\n",
       "      <td>CD45pos</td>\n",
       "      <td>0.15</td>\n",
       "      <td>200</td>\n",
       "      <td>0.018000</td>\n",
       "      <td>10000.000000</td>\n",
       "      <td>374</td>\n",
       "      <td>pool1</td>\n",
       "      <td>Liver</td>\n",
       "      <td>NT</td>\n",
       "    </tr>\n",
       "    <tr>\n",
       "      <th>342-pool1</th>\n",
       "      <td>AAACAAACAGAGGATATGGCTACC</td>\n",
       "      <td>B</td>\n",
       "      <td>Liver_CD45pos_NT_B</td>\n",
       "      <td>CD45pos</td>\n",
       "      <td>0.15</td>\n",
       "      <td>200</td>\n",
       "      <td>0.035088</td>\n",
       "      <td>10000.000000</td>\n",
       "      <td>318</td>\n",
       "      <td>pool1</td>\n",
       "      <td>Liver</td>\n",
       "      <td>NT</td>\n",
       "    </tr>\n",
       "  </tbody>\n",
       "</table>\n",
       "</div>"
      ],
      "text/plain": [
       "                            barcode group        library_name   marker  \\\n",
       "48-pool1   AAACAAACAGAGGATAAGACACCA     B  Liver_CD45pos_NT_B  CD45pos   \n",
       "98-pool1   AAACAAACAGAGGATACAATACTT     B  Liver_CD45pos_NT_B  CD45pos   \n",
       "237-pool1  AAACAAACAGAGGATAGGCCCTTA     B  Liver_CD45pos_NT_B  CD45pos   \n",
       "246-pool1  AAACAAACAGAGGATAGGGAGGTA     B  Liver_CD45pos_NT_B  CD45pos   \n",
       "342-pool1  AAACAAACAGAGGATATGGCTACC     B  Liver_CD45pos_NT_B  CD45pos   \n",
       "\n",
       "           max_mt  min_tot  mito_frac      n_counts  n_genes   pool tissue  \\\n",
       "48-pool1     0.15      200   0.040964  10000.000977      348  pool1  Liver   \n",
       "98-pool1     0.15      200   0.005613  10000.000000      581  pool1  Liver   \n",
       "237-pool1    0.15      200   0.035451  10000.001953      470  pool1  Liver   \n",
       "246-pool1    0.15      200   0.018000  10000.000000      374  pool1  Liver   \n",
       "342-pool1    0.15      200   0.035088  10000.000000      318  pool1  Liver   \n",
       "\n",
       "          treatment  \n",
       "48-pool1         NT  \n",
       "98-pool1         NT  \n",
       "237-pool1        NT  \n",
       "246-pool1        NT  \n",
       "342-pool1        NT  "
      ]
     },
     "execution_count": 6,
     "metadata": {},
     "output_type": "execute_result"
    }
   ],
   "source": [
    "#sc.pp.normalize_per_cell(adata,counts_per_cell_after=1e4, key_n_counts='n_counts', copy=True)\n",
    "\n",
    "target_sum = 1e4\n",
    "\n",
    "sc.pp.normalize_total(adata, target_sum=target_sum)\n",
    "#plt.hist(adata.X.sum(1).A1)\n",
    "adata_counts = adata.X.todense()\n",
    "adata_counts = np.array(adata_counts).reshape(-1)\n",
    "\n",
    "#adata.X.sum(1).A1\n",
    "\n",
    "\n",
    "fig, axes = plt.subplots(2)\n",
    "\n",
    "axes[0].plot(100 - np.logspace(1,-4,10), np.percentile(adata_counts, 100 - np.logspace(1,-10,10)))\n",
    "axes[0].set_xlabel('Counts matrix percentile')\n",
    "axes[0].set_ylabel('Counts')\n",
    "axes[0].set_ylim([0, np.max(adata_counts)*1.1])\n",
    "axes[0].set_yticks(np.linspace(0, np.max(adata_counts), 10))\n",
    "\n",
    "axes[1].hist(adata.X.sum(1).A1, bins=20)\n",
    "axes[1].set_xlabel('Total Counts in cell')\n",
    "axes[1].set_ylabel('Number of cells')\n",
    "\n",
    "\n",
    "plt.show()\n",
    "\n",
    "adata.obs['n_counts'] = adata.X.sum(1).A1\n",
    "adata.obs.head()\n"
   ]
  },
  {
   "cell_type": "code",
   "execution_count": 7,
   "metadata": {},
   "outputs": [
    {
     "name": "stdout",
     "output_type": "stream",
     "text": [
      "saving for quick loading of genes...\n",
      "saving for quick loading of cells...\n",
      "saving as npz...\n",
      "done\n",
      "200425_16h09\n"
     ]
    }
   ],
   "source": [
    "#save counts column into a npz df quickly accessible for SPRING\n",
    "\n",
    "!mkdir -p spring\n",
    "srz.save_counts_for_spring(adata,'spring/tox_marie_{}'.format(rz.now()), tot_count_column='n_counts')\n",
    "\n",
    "print(rz.now())"
   ]
  },
  {
   "cell_type": "markdown",
   "metadata": {},
   "source": [
    "# Make a SPRING plot using all cells"
   ]
  },
  {
   "cell_type": "code",
   "execution_count": 8,
   "metadata": {},
   "outputs": [
    {
     "data": {
      "text/plain": [
       "{'k': 5,\n",
       " 'cell_mask': array([ True,  True,  True, ...,  True,  True,  True]),\n",
       " 'min_counts': 3,\n",
       " 'min_cells': 3,\n",
       " 'base_ix': array([    0,     1,     2, ..., 35355, 35356, 35357]),\n",
       " 'num_pc': 20,\n",
       " 'plot_name': 'all_cells_w_dblt_corr'}"
      ]
     },
     "execution_count": 8,
     "metadata": {},
     "output_type": "execute_result"
    }
   ],
   "source": [
    "# out of all cells in adata, select only those you want to plot\n",
    "# make a copy of the adata object\n",
    "\n",
    "cell_mask = np.repeat(True,adata.shape[0])\n",
    "cdata = adata[cell_mask].copy() # all cells in this case\n",
    "\n",
    "# chose a name for the spring subplot\n",
    "plot_name = 'all_cells_w_dblt_corr'\n",
    "\n",
    "# chose dataset for selecting abundant and variable genes\n",
    "# here I use linear counts-per-10k\n",
    "\n",
    "E = cdata.X\n",
    "\n",
    "# in an attempt to be more organized I keep a log of spring parameter and intermediate data structures used in\n",
    "# the form of an unstructured annotation as part of an AnnData object.\n",
    "\n",
    "srz.start_spring_params(cdata,plot_name)\n",
    "\n",
    "# print the newly created dictionary, also define a variable to access it faster:\n",
    "pdict = cdata.uns['spring_params'][plot_name]\n",
    "pdict"
   ]
  },
  {
   "cell_type": "code",
   "execution_count": 9,
   "metadata": {},
   "outputs": [
    {
     "data": {
      "text/plain": [
       "{'k': 10,\n",
       " 'cell_mask': array([ True,  True,  True, ...,  True,  True,  True]),\n",
       " 'min_counts': 10,\n",
       " 'min_cells': 5,\n",
       " 'base_ix': array([    0,     1,     2, ..., 35355, 35356, 35357]),\n",
       " 'num_pc': 20,\n",
       " 'plot_name': 'all_cells_w_dblt_corr'}"
      ]
     },
     "execution_count": 9,
     "metadata": {},
     "output_type": "execute_result"
    }
   ],
   "source": [
    "# overwrite some of the parameters for SPRING\n",
    "pdict['cell_mask'] = cell_mask # record which cell out of all were used\n",
    "pdict['k'] = 10\n",
    "\n",
    "pdict['min_counts'] = 10\n",
    "pdict['min_cells'] = 5\n",
    "\n",
    "pdict"
   ]
  },
  {
   "cell_type": "code",
   "execution_count": 10,
   "metadata": {},
   "outputs": [
    {
     "name": "stdout",
     "output_type": "stream",
     "text": [
      "mt-\n",
      "['mt-Nd1', 'mt-Nd2', 'mt-Co1', 'mt-Co2', 'mt-Atp8', 'mt-Atp6', 'mt-Co3', 'mt-Nd3', 'mt-Nd4l', 'mt-Nd4', 'mt-Nd5', 'mt-Nd6', 'mt-Cytb']\n",
      "\n",
      "\n",
      "Rps\n",
      "['Rps6kc1', 'Rps21', 'Rps4x', 'Rps6ka6', 'Rps6ka3', 'Rps3a1', 'Rps27', 'Rps20', 'Rps6', 'Rps8', 'Rps6ka1', 'Rps9', 'Rps5', 'Rps19', 'Rps16', 'Rps11', 'Rps17', 'Rps3', 'Rps13', 'Rps15a', 'Rps12', 'Rps15', 'Rps26', 'Rps24', 'Rps25', 'Rps27l', 'Rps27rt', 'Rpsa', 'Rps27a', 'Rps6kb1', 'Rps18-ps5', 'Rps23', 'Rps7', 'Rps29', 'Rps6kl1', 'Rps6ka5', 'Rps19bp1', 'Rps6ka2', 'Rps2', 'Rps10', 'Rps28', 'Rps18', 'Rps14', 'Rps6kb2', 'Rps6ka4']\n",
      "\n",
      "\n",
      "Rpl\n",
      "['Rpl7', 'Rpl31', 'Rpl37a', 'Rpl7a', 'Rpl12', 'Rpl35', 'Rpl39', 'Rpl10', 'Rpl36a', 'Rpl22l1', 'Rpl34', 'Rpl11', 'Rpl22', 'Rpl9', 'Rpl5', 'Rplp0', 'Rpl6', 'Rpl21', 'Rpl32', 'Rpl28', 'Rpl13a', 'Rpl18', 'Rpl27a', 'Rplp2', 'Rpl41', 'Rpl18a', 'Rpl13', 'Rpl15', 'Rpl36a-ps1', 'Rpl10-ps3', 'Rplp1', 'Rpl4', 'Rpl29', 'Rpl14', 'Rpl26', 'Rpl23a', 'Rpl9-ps1', 'Rpl23', 'Rpl19', 'Rpl27', 'Rpl38', 'Rpl10l', 'Rpl36al', 'Rpl37', 'Rpl30', 'Rpl8', 'Rpl3', 'Rpl39l', 'Rpl35a', 'Rpl24', 'Rpl3l', 'Rpl10a', 'Rpl7l1', 'Rpl36', 'Rpl36-ps4', 'Rpl17', 'Rpl9-ps6']\n",
      "\n",
      "\n",
      "Mrpl\n",
      "['Mrpl15', 'Mrpl30', 'Mrpl44', 'Mrpl41', 'Mrpl47', 'Mrpl24', 'Mrpl9', 'Mrpl50', 'Mrpl37', 'Mrpl20', 'Mrpl33', 'Mrpl1', 'Mrpl35', 'Mrpl19', 'Mrpl53', 'Mrpl51', 'Mrpl46', 'Mrpl48', 'Mrpl17', 'Mrpl23', 'Mrpl54', 'Mrpl42', 'Mrpl34', 'Mrpl52', 'Mrpl57', 'Mrpl4', 'Mrpl3', 'Mrpl22', 'Mrpl55', 'Mrpl27', 'Mrpl10', 'Mrpl45', 'Mrpl58', 'Mrpl38', 'Mrpl12', 'Mrpl32', 'Mrpl36', 'Mrpl13', 'Mrpl40', 'Mrpl39', 'Mrpl18', 'Mrpl28', 'Mrpl14', 'Mrpl2', 'Mrpl21', 'Mrpl11', 'Mrpl49', 'Mrpl16', 'Mrpl43']\n",
      "\n",
      "\n",
      "Mrps\n",
      "['Mrps9', 'Mrps14', 'Mrps2', 'Mrps5', 'Mrps26', 'Mrps28', 'Mrps21', 'Mrps15', 'Mrps18c', 'Mrps17', 'Mrps33', 'Mrps25', 'Mrps35', 'Mrps12', 'Mrps11', 'Mrps31', 'Mrps16', 'Mrps22', 'Mrps24', 'Mrps23', 'Mrps7', 'Mrps27', 'Mrps36', 'Mrps30', 'Mrps6', 'Mrps34', 'Mrps18b', 'Mrps18a', 'Mrps10']\n",
      "\n",
      "\n"
     ]
    }
   ],
   "source": [
    "# avoid genes starting with\n",
    "toavoid = ['mt-','Rps','Rpl','Mrpl','Mrps']\n",
    "for i in toavoid:\n",
    "    print(i)\n",
    "    print([g for g in adata.var_names if g.startswith(i)])\n",
    "    print()\n",
    "    print()"
   ]
  },
  {
   "cell_type": "code",
   "execution_count": 11,
   "metadata": {},
   "outputs": [
    {
     "name": "stdout",
     "output_type": "stream",
     "text": [
      "193 genes excluded based on name\n",
      "13262 genes passing abundance filter\n"
     ]
    }
   ],
   "source": [
    "# genes to exclude:\n",
    "exclude_gene_names = []\n",
    "for j in toavoid:\n",
    "    exclude_gene_names.append([i for i in adata.var_names if i.startswith(j)])\n",
    "exclude_gene_names = rz.flatten_list_of_lists(exclude_gene_names)\n",
    "\n",
    "pdict['gene_names_excluded'] = exclude_gene_names\n",
    "print('%d genes excluded based on name'%len(exclude_gene_names))\n",
    "\n",
    "\n",
    "##########################################################################################\n",
    "\n",
    "# filter on abundance:\n",
    "pdict['abundant_gene_mask'] = srz.filter_abund_genes(\n",
    "                                                     E,\n",
    "                                                     pdict['min_counts'],\n",
    "                                                     pdict['min_cells']\n",
    "                                                    )"
   ]
  },
  {
   "cell_type": "code",
   "execution_count": 12,
   "metadata": {},
   "outputs": [
    {
     "name": "stdout",
     "output_type": "stream",
     "text": [
      "9562\n",
      "9557\n",
      "13074 surviving genes so far\n"
     ]
    }
   ],
   "source": [
    "# combine gene filters so far\n",
    "undesired = list(pdict['gene_names_excluded'])+\\\n",
    "            list(cdata.var_names[~pdict['abundant_gene_mask']])\n",
    "\n",
    "print(len(undesired))\n",
    "undesired = list(set(undesired))\n",
    "print(len(undesired))\n",
    "\n",
    "# boolean mask\n",
    "combmask = ~np.in1d(cdata.var_names,undesired)\n",
    "print(combmask.sum(),'surviving genes so far')"
   ]
  },
  {
   "cell_type": "code",
   "execution_count": 13,
   "metadata": {},
   "outputs": [
    {
     "name": "stdout",
     "output_type": "stream",
     "text": [
      "16280 genes with non-zero expression\n"
     ]
    }
   ],
   "source": [
    "# calculate v score (Klein et al., 2015, see equation S4 and S13) for all non-zero genes\n",
    "isexpr = np.array(E.sum(axis=0))[0]>0\n",
    "print('%d genes with non-zero expression'%sum(isexpr))\n",
    "pdict['v_score_dict'] = srz.vscores(E[:,isexpr])"
   ]
  },
  {
   "cell_type": "code",
   "execution_count": 14,
   "metadata": {},
   "outputs": [
    {
     "name": "stdout",
     "output_type": "stream",
     "text": [
      "9708 variable genes\n"
     ]
    }
   ],
   "source": [
    "# get genes above mode, i.e. any that can be considered variable\n",
    "gabmod = cdata.var_names[isexpr][pdict['v_score_dict']['var_gene_mask']]\n",
    "print(len(gabmod),'variable genes')"
   ]
  },
  {
   "cell_type": "code",
   "execution_count": 15,
   "metadata": {},
   "outputs": [
    {
     "name": "stdout",
     "output_type": "stream",
     "text": [
      "9708\n",
      "8605 abundant and variable genes\n"
     ]
    }
   ],
   "source": [
    "# update combmask:\n",
    "mvar = np.in1d(cdata.var_names,gabmod)\n",
    "print(mvar.sum())\n",
    "combmask = combmask&mvar\n",
    "print(combmask.sum(),'abundant and variable genes')"
   ]
  },
  {
   "cell_type": "code",
   "execution_count": 16,
   "metadata": {},
   "outputs": [
    {
     "name": "stdout",
     "output_type": "stream",
     "text": [
      "(35358, 8605)\n",
      "0.99 min.\n"
     ]
    }
   ],
   "source": [
    "# if filtering on correlation, get gene-gene correlation (quite slow)\n",
    "corx = E[:,combmask]\n",
    "print(corx.shape)\n",
    "corx = srz.sparse_corrcoef(corx.T)\n",
    "corx = np.array(corx)"
   ]
  },
  {
   "cell_type": "code",
   "execution_count": 17,
   "metadata": {},
   "outputs": [
    {
     "name": "stdout",
     "output_type": "stream",
     "text": [
      "6547 genes to exclude based on correlation\n",
      "2058 genes surviving all filters\n"
     ]
    }
   ],
   "source": [
    "# select correlation filters (largely arbitrary), as described in Klein et al. 2015\n",
    "genes_at_least = 3 #at least this number of genes correlated to any other gene\n",
    "corr_at_least = 0.15 #with a Pearson correlation coefficient at least this large\n",
    "\n",
    "################################################################################\n",
    "\n",
    "# genes passing correlation filter\n",
    "cormask = (abs(corx)>corr_at_least).sum(axis=0)>genes_at_least #\"more than\" as one instance is the gene itself with r=1\n",
    "print((~cormask).sum(), 'genes to exclude based on correlation')\n",
    "\n",
    "# combine filter\n",
    "pdict['genes_used'] = cdata.var_names[combmask][cormask]\n",
    "print(len(pdict['genes_used']),'genes surviving all filters')"
   ]
  },
  {
   "cell_type": "code",
   "execution_count": 18,
   "metadata": {},
   "outputs": [
    {
     "data": {
      "image/png": "[encoded data removed]",
      "text/plain": [
       "<Figure size 216x216 with 1 Axes>"
      ]
     },
     "metadata": {
      "needs_background": "light"
     },
     "output_type": "display_data"
    }
   ],
   "source": [
    "# plot a fano factor vs mean plot with genes used further colored in red\n",
    "ff = pdict['v_score_dict']['ff_gene']\n",
    "mu = pdict['v_score_dict']['mu_gene']\n",
    "finalmask = np.in1d(cdata.var_names,pdict['genes_used'])\n",
    "\n",
    "# check scatter\n",
    "s = 2\n",
    "plt.figure(figsize=(3,3))\n",
    "plt.scatter(mu,ff,lw=0,color='0.5',alpha=0.1,s=s)\n",
    "plt.scatter(mu[finalmask[isexpr]],ff[finalmask[isexpr]],lw=0,color='r',alpha=0.1,s=s)\n",
    "plt.xscale('log');\n",
    "plt.yscale('log');\n",
    "plt.xlim(0.0001,1000)\n",
    "plt.ylim(1,10000)\n",
    "plt.xlabel('Mean counts')\n",
    "plt.ylabel('Fano factor');"
   ]
  },
  {
   "cell_type": "markdown",
   "metadata": {},
   "source": [
    "# Prepare data for PCA"
   ]
  },
  {
   "cell_type": "code",
   "execution_count": 19,
   "metadata": {},
   "outputs": [
    {
     "name": "stdout",
     "output_type": "stream",
     "text": [
      "(35358, 22631)\n",
      "(35358, 2058)\n"
     ]
    }
   ],
   "source": [
    "# leave only genes defined as variable, overwrite\n",
    "print(cdata.shape)\n",
    "finalmask = np.in1d(cdata.var_names,pdict['genes_used'])\n",
    "cdata = cdata[:,finalmask]\n",
    "print(cdata.shape)"
   ]
  },
  {
   "cell_type": "code",
   "execution_count": 20,
   "metadata": {},
   "outputs": [
    {
     "name": "stderr",
     "output_type": "stream",
     "text": [
      "/home/ng136/miniconda3/envs/py36/lib/python3.6/site-packages/scanpy/preprocessing/_simple.py:912: UserWarning: Revieved a view of an AnnData. Making a copy.\n",
      "  view_to_actual(adata)\n"
     ]
    }
   ],
   "source": [
    "# zscore (note:when applying batch correction this step is a bit more involved)\n",
    "sc.pp.scale(cdata)\n",
    "Z = cdata.X"
   ]
  },
  {
   "cell_type": "markdown",
   "metadata": {},
   "source": [
    "# PCA using automatically computed number of components. Skip to next block for manually computed number of PCs."
   ]
  },
  {
   "cell_type": "code",
   "execution_count": 19,
   "metadata": {},
   "outputs": [
    {
     "name": "stdout",
     "output_type": "stream",
     "text": [
      "calculating the first 500 observed eigenvalues...\n",
      "calculating the random eigenvalues for 5 rounds of shuffling...\n"
     ]
    },
    {
     "ename": "KeyboardInterrupt",
     "evalue": "",
     "output_type": "error",
     "traceback": [
      "\u001b[0;31m---------------------------------------------------------------------------\u001b[0m",
      "\u001b[0;31mKeyboardInterrupt\u001b[0m                         Traceback (most recent call last)",
      "\u001b[0;32m<ipython-input-19-97deca7fad7c>\u001b[0m in \u001b[0;36m<module>\u001b[0;34m\u001b[0m\n\u001b[1;32m      1\u001b[0m \u001b[0;31m# find the number of non-random PCs. Shuffling 3 times would be enough here for the initial plot.\u001b[0m\u001b[0;34m\u001b[0m\u001b[0;34m\u001b[0m\u001b[0;34m\u001b[0m\u001b[0m\n\u001b[0;32m----> 2\u001b[0;31m \u001b[0md\u001b[0m \u001b[0;34m=\u001b[0m \u001b[0msrz\u001b[0m\u001b[0;34m.\u001b[0m\u001b[0mfind_num_pc\u001b[0m\u001b[0;34m(\u001b[0m\u001b[0mZ\u001b[0m\u001b[0;34m,\u001b[0m\u001b[0mstart_pc\u001b[0m\u001b[0;34m=\u001b[0m\u001b[0;36m500\u001b[0m\u001b[0;34m,\u001b[0m\u001b[0msparse\u001b[0m\u001b[0;34m=\u001b[0m\u001b[0;32mFalse\u001b[0m\u001b[0;34m,\u001b[0m\u001b[0mn\u001b[0m\u001b[0;34m=\u001b[0m\u001b[0;36m5\u001b[0m\u001b[0;34m)\u001b[0m\u001b[0;34m\u001b[0m\u001b[0;34m\u001b[0m\u001b[0m\n\u001b[0m",
      "\u001b[0;32m/n/groups/klein/nico/tox/utility_functions/rz_utility_spring.py\u001b[0m in \u001b[0;36mfind_num_pc\u001b[0;34m(Z, n, start_pc, sparse, svd_solver, return_all_pca, print_progression)\u001b[0m\n\u001b[1;32m    861\u001b[0m             \u001b[0mprint\u001b[0m\u001b[0;34m(\u001b[0m\u001b[0;34m\"calculating the random eigenvalues for %d rounds of shuffling...\"\u001b[0m\u001b[0;34m%\u001b[0m\u001b[0mn\u001b[0m\u001b[0;34m)\u001b[0m\u001b[0;34m\u001b[0m\u001b[0;34m\u001b[0m\u001b[0m\n\u001b[1;32m    862\u001b[0m         \u001b[0mZshuff\u001b[0m \u001b[0;34m=\u001b[0m \u001b[0mshuffle_rows\u001b[0m\u001b[0;34m(\u001b[0m\u001b[0mZ\u001b[0m\u001b[0;34m.\u001b[0m\u001b[0mT\u001b[0m\u001b[0;34m,\u001b[0m\u001b[0mseed\u001b[0m\u001b[0;34m=\u001b[0m\u001b[0mcounter\u001b[0m\u001b[0;34m,\u001b[0m\u001b[0msparse\u001b[0m\u001b[0;34m=\u001b[0m\u001b[0msparse\u001b[0m\u001b[0;34m,\u001b[0m\u001b[0mnonzeros\u001b[0m\u001b[0;34m=\u001b[0m\u001b[0mnonzeros\u001b[0m\u001b[0;34m)\u001b[0m\u001b[0;34m.\u001b[0m\u001b[0mT\u001b[0m\u001b[0;34m\u001b[0m\u001b[0;34m\u001b[0m\u001b[0m\n\u001b[0;32m--> 863\u001b[0;31m         \u001b[0mpca_shuff\u001b[0m\u001b[0;34m.\u001b[0m\u001b[0mfit\u001b[0m\u001b[0;34m(\u001b[0m\u001b[0mZshuff\u001b[0m\u001b[0;34m)\u001b[0m\u001b[0;34m\u001b[0m\u001b[0;34m\u001b[0m\u001b[0m\n\u001b[0m\u001b[1;32m    864\u001b[0m \u001b[0;34m\u001b[0m\u001b[0m\n\u001b[1;32m    865\u001b[0m         \u001b[0;31m# if more than just the random eigenvalues needed\u001b[0m\u001b[0;34m\u001b[0m\u001b[0;34m\u001b[0m\u001b[0;34m\u001b[0m\u001b[0m\n",
      "\u001b[0;32m~/miniconda3/envs/py36/lib/python3.6/site-packages/sklearn/decomposition/_pca.py\u001b[0m in \u001b[0;36mfit\u001b[0;34m(self, X, y)\u001b[0m\n\u001b[1;32m    342\u001b[0m             \u001b[0mReturns\u001b[0m \u001b[0mthe\u001b[0m \u001b[0minstance\u001b[0m \u001b[0mitself\u001b[0m\u001b[0;34m.\u001b[0m\u001b[0;34m\u001b[0m\u001b[0;34m\u001b[0m\u001b[0m\n\u001b[1;32m    343\u001b[0m         \"\"\"\n\u001b[0;32m--> 344\u001b[0;31m         \u001b[0mself\u001b[0m\u001b[0;34m.\u001b[0m\u001b[0m_fit\u001b[0m\u001b[0;34m(\u001b[0m\u001b[0mX\u001b[0m\u001b[0;34m)\u001b[0m\u001b[0;34m\u001b[0m\u001b[0;34m\u001b[0m\u001b[0m\n\u001b[0m\u001b[1;32m    345\u001b[0m         \u001b[0;32mreturn\u001b[0m \u001b[0mself\u001b[0m\u001b[0;34m\u001b[0m\u001b[0;34m\u001b[0m\u001b[0m\n\u001b[1;32m    346\u001b[0m \u001b[0;34m\u001b[0m\u001b[0m\n",
      "\u001b[0;32m~/miniconda3/envs/py36/lib/python3.6/site-packages/sklearn/decomposition/_pca.py\u001b[0m in \u001b[0;36m_fit\u001b[0;34m(self, X)\u001b[0m\n\u001b[1;32m    416\u001b[0m             \u001b[0;32mreturn\u001b[0m \u001b[0mself\u001b[0m\u001b[0;34m.\u001b[0m\u001b[0m_fit_full\u001b[0m\u001b[0;34m(\u001b[0m\u001b[0mX\u001b[0m\u001b[0;34m,\u001b[0m \u001b[0mn_components\u001b[0m\u001b[0;34m)\u001b[0m\u001b[0;34m\u001b[0m\u001b[0;34m\u001b[0m\u001b[0m\n\u001b[1;32m    417\u001b[0m         \u001b[0;32melif\u001b[0m \u001b[0mself\u001b[0m\u001b[0;34m.\u001b[0m\u001b[0m_fit_svd_solver\u001b[0m \u001b[0;32min\u001b[0m \u001b[0;34m[\u001b[0m\u001b[0;34m'arpack'\u001b[0m\u001b[0;34m,\u001b[0m \u001b[0;34m'randomized'\u001b[0m\u001b[0;34m]\u001b[0m\u001b[0;34m:\u001b[0m\u001b[0;34m\u001b[0m\u001b[0;34m\u001b[0m\u001b[0m\n\u001b[0;32m--> 418\u001b[0;31m             \u001b[0;32mreturn\u001b[0m \u001b[0mself\u001b[0m\u001b[0;34m.\u001b[0m\u001b[0m_fit_truncated\u001b[0m\u001b[0;34m(\u001b[0m\u001b[0mX\u001b[0m\u001b[0;34m,\u001b[0m \u001b[0mn_components\u001b[0m\u001b[0;34m,\u001b[0m \u001b[0mself\u001b[0m\u001b[0;34m.\u001b[0m\u001b[0m_fit_svd_solver\u001b[0m\u001b[0;34m)\u001b[0m\u001b[0;34m\u001b[0m\u001b[0;34m\u001b[0m\u001b[0m\n\u001b[0m\u001b[1;32m    419\u001b[0m         \u001b[0;32melse\u001b[0m\u001b[0;34m:\u001b[0m\u001b[0;34m\u001b[0m\u001b[0;34m\u001b[0m\u001b[0m\n\u001b[1;32m    420\u001b[0m             raise ValueError(\"Unrecognized svd_solver='{0}'\"\n",
      "\u001b[0;32m~/miniconda3/envs/py36/lib/python3.6/site-packages/sklearn/decomposition/_pca.py\u001b[0m in \u001b[0;36m_fit_truncated\u001b[0;34m(self, X, n_components, svd_solver)\u001b[0m\n\u001b[1;32m    533\u001b[0m                                      \u001b[0mn_iter\u001b[0m\u001b[0;34m=\u001b[0m\u001b[0mself\u001b[0m\u001b[0;34m.\u001b[0m\u001b[0miterated_power\u001b[0m\u001b[0;34m,\u001b[0m\u001b[0;34m\u001b[0m\u001b[0;34m\u001b[0m\u001b[0m\n\u001b[1;32m    534\u001b[0m                                      \u001b[0mflip_sign\u001b[0m\u001b[0;34m=\u001b[0m\u001b[0;32mTrue\u001b[0m\u001b[0;34m,\u001b[0m\u001b[0;34m\u001b[0m\u001b[0;34m\u001b[0m\u001b[0m\n\u001b[0;32m--> 535\u001b[0;31m                                      random_state=random_state)\n\u001b[0m\u001b[1;32m    536\u001b[0m \u001b[0;34m\u001b[0m\u001b[0m\n\u001b[1;32m    537\u001b[0m         \u001b[0mself\u001b[0m\u001b[0;34m.\u001b[0m\u001b[0mn_samples_\u001b[0m\u001b[0;34m,\u001b[0m \u001b[0mself\u001b[0m\u001b[0;34m.\u001b[0m\u001b[0mn_features_\u001b[0m \u001b[0;34m=\u001b[0m \u001b[0mn_samples\u001b[0m\u001b[0;34m,\u001b[0m \u001b[0mn_features\u001b[0m\u001b[0;34m\u001b[0m\u001b[0;34m\u001b[0m\u001b[0m\n",
      "\u001b[0;32m~/miniconda3/envs/py36/lib/python3.6/site-packages/sklearn/utils/extmath.py\u001b[0m in \u001b[0;36mrandomized_svd\u001b[0;34m(M, n_components, n_oversamples, n_iter, power_iteration_normalizer, transpose, flip_sign, random_state)\u001b[0m\n\u001b[1;32m    349\u001b[0m \u001b[0;34m\u001b[0m\u001b[0m\n\u001b[1;32m    350\u001b[0m     \u001b[0;31m# project M to the (k + p) dimensional space using the basis vectors\u001b[0m\u001b[0;34m\u001b[0m\u001b[0;34m\u001b[0m\u001b[0;34m\u001b[0m\u001b[0m\n\u001b[0;32m--> 351\u001b[0;31m     \u001b[0mB\u001b[0m \u001b[0;34m=\u001b[0m \u001b[0msafe_sparse_dot\u001b[0m\u001b[0;34m(\u001b[0m\u001b[0mQ\u001b[0m\u001b[0;34m.\u001b[0m\u001b[0mT\u001b[0m\u001b[0;34m,\u001b[0m \u001b[0mM\u001b[0m\u001b[0;34m)\u001b[0m\u001b[0;34m\u001b[0m\u001b[0;34m\u001b[0m\u001b[0m\n\u001b[0m\u001b[1;32m    352\u001b[0m \u001b[0;34m\u001b[0m\u001b[0m\n\u001b[1;32m    353\u001b[0m     \u001b[0;31m# compute the SVD on the thin matrix: (k + p) wide\u001b[0m\u001b[0;34m\u001b[0m\u001b[0;34m\u001b[0m\u001b[0;34m\u001b[0m\u001b[0m\n",
      "\u001b[0;32m~/miniconda3/envs/py36/lib/python3.6/site-packages/sklearn/utils/extmath.py\u001b[0m in \u001b[0;36msafe_sparse_dot\u001b[0;34m(a, b, dense_output)\u001b[0m\n\u001b[1;32m    149\u001b[0m             \u001b[0mret\u001b[0m \u001b[0;34m=\u001b[0m \u001b[0mnp\u001b[0m\u001b[0;34m.\u001b[0m\u001b[0mdot\u001b[0m\u001b[0;34m(\u001b[0m\u001b[0ma\u001b[0m\u001b[0;34m,\u001b[0m \u001b[0mb\u001b[0m\u001b[0;34m)\u001b[0m\u001b[0;34m\u001b[0m\u001b[0;34m\u001b[0m\u001b[0m\n\u001b[1;32m    150\u001b[0m     \u001b[0;32melse\u001b[0m\u001b[0;34m:\u001b[0m\u001b[0;34m\u001b[0m\u001b[0;34m\u001b[0m\u001b[0m\n\u001b[0;32m--> 151\u001b[0;31m         \u001b[0mret\u001b[0m \u001b[0;34m=\u001b[0m \u001b[0ma\u001b[0m \u001b[0;34m@\u001b[0m \u001b[0mb\u001b[0m\u001b[0;34m\u001b[0m\u001b[0;34m\u001b[0m\u001b[0m\n\u001b[0m\u001b[1;32m    152\u001b[0m \u001b[0;34m\u001b[0m\u001b[0m\n\u001b[1;32m    153\u001b[0m     if (sparse.issparse(a) and sparse.issparse(b)\n",
      "\u001b[0;31mKeyboardInterrupt\u001b[0m: "
     ]
    }
   ],
   "source": [
    "# find the number of non-random PCs. Shuffling 3 times would be enough here for the initial plot.\n",
    "d = srz.find_num_pc(Z,start_pc=500,sparse=False,n=5)"
   ]
  },
  {
   "cell_type": "markdown",
   "metadata": {},
   "source": [
    "# (From Klunctions notebook)\n",
    "## For the sake of reproducibility, I'm continuing with 160 PCs for the data set _tox_marie_filtered_merged_35358x22631_backup_200404_17h27_"
   ]
  },
  {
   "cell_type": "markdown",
   "metadata": {},
   "source": [
    "### Run PCA on the z-scored data\n"
   ]
  },
  {
   "cell_type": "code",
   "execution_count": 21,
   "metadata": {},
   "outputs": [
    {
     "name": "stdout",
     "output_type": "stream",
     "text": [
      "computing PCA with n_comps = 160\n",
      "    finished (0:00:38)\n",
      "38.0881884098053\n"
     ]
    }
   ],
   "source": [
    "start = time()\n",
    "\n",
    "#here's where one could adjust the number of PCs to set it automatically from the previous cell\n",
    "sc.tl.pca(cdata, svd_solver='arpack', n_comps = 160)# = d['num_pc'],) \n",
    "\n",
    "print(time() - start)"
   ]
  },
  {
   "cell_type": "markdown",
   "metadata": {},
   "source": [
    "# Compute neighbors map of cells, necessary for UMAP"
   ]
  },
  {
   "cell_type": "code",
   "execution_count": 22,
   "metadata": {},
   "outputs": [
    {
     "name": "stdout",
     "output_type": "stream",
     "text": [
      "computing neighbors\n"
     ]
    },
    {
     "name": "stderr",
     "output_type": "stream",
     "text": [
      "/home/ng136/miniconda3/envs/py36/lib/python3.6/site-packages/numba/typed_passes.py:293: NumbaPerformanceWarning: \n",
      "The keyword argument 'parallel=True' was specified but no transformation for parallel execution was possible.\n",
      "\n",
      "To find out why, try turning on parallel diagnostics, see http://numba.pydata.org/numba-doc/latest/user/parallel.html#diagnostics for help.\n",
      "\n",
      "File \"../../../../../home/ng136/miniconda3/envs/py36/lib/python3.6/site-packages/umap/rp_tree.py\", line 135:\n",
      "@numba.njit(fastmath=True, nogil=True, parallel=True)\n",
      "def euclidean_random_projection_split(data, indices, rng_state):\n",
      "^\n",
      "\n",
      "  state.func_ir.loc))\n",
      "/home/ng136/miniconda3/envs/py36/lib/python3.6/site-packages/umap/nndescent.py:92: NumbaPerformanceWarning: \n",
      "The keyword argument 'parallel=True' was specified but no transformation for parallel execution was possible.\n",
      "\n",
      "To find out why, try turning on parallel diagnostics, see http://numba.pydata.org/numba-doc/latest/user/parallel.html#diagnostics for help.\n",
      "\n",
      "File \"../../../../../home/ng136/miniconda3/envs/py36/lib/python3.6/site-packages/umap/utils.py\", line 409:\n",
      "@numba.njit(parallel=True)\n",
      "def build_candidates(current_graph, n_vertices, n_neighbors, max_candidates, rng_state):\n",
      "^\n",
      "\n",
      "  current_graph, n_vertices, n_neighbors, max_candidates, rng_state\n",
      "/home/ng136/miniconda3/envs/py36/lib/python3.6/site-packages/numba/typed_passes.py:293: NumbaPerformanceWarning: \n",
      "The keyword argument 'parallel=True' was specified but no transformation for parallel execution was possible.\n",
      "\n",
      "To find out why, try turning on parallel diagnostics, see http://numba.pydata.org/numba-doc/latest/user/parallel.html#diagnostics for help.\n",
      "\n",
      "File \"../../../../../home/ng136/miniconda3/envs/py36/lib/python3.6/site-packages/umap/nndescent.py\", line 47:\n",
      "    @numba.njit(parallel=True)\n",
      "    def nn_descent(\n",
      "    ^\n",
      "\n",
      "  state.func_ir.loc))\n"
     ]
    },
    {
     "name": "stdout",
     "output_type": "stream",
     "text": [
      "    finished (0:00:36)\n"
     ]
    }
   ],
   "source": [
    "sc.pp.neighbors(cdata, n_neighbors=10, use_rep='X_pca')"
   ]
  },
  {
   "cell_type": "code",
   "execution_count": 23,
   "metadata": {},
   "outputs": [
    {
     "name": "stdout",
     "output_type": "stream",
     "text": [
      "computing UMAP\n",
      "    finished (0:00:46)\n"
     ]
    }
   ],
   "source": [
    "sc.tl.umap(cdata)"
   ]
  },
  {
   "cell_type": "code",
   "execution_count": 24,
   "metadata": {},
   "outputs": [
    {
     "name": "stdout",
     "output_type": "stream",
     "text": [
      "running Leiden clustering\n",
      "    finished (0:00:15)\n",
      "running Leiden clustering\n",
      "    finished (0:00:19)\n",
      "running Leiden clustering\n",
      "    finished (0:00:19)\n",
      "running Leiden clustering\n",
      "    finished (0:00:22)\n"
     ]
    }
   ],
   "source": [
    "sc.tl.leiden(cdata, resolution = 1)\n",
    "sc.tl.leiden(cdata, resolution = 2, key_added = 'leiden2')\n",
    "sc.tl.leiden(cdata, resolution = 3, key_added = 'leiden3')\n",
    "sc.tl.leiden(cdata, resolution = 4, key_added = 'leiden4')"
   ]
  },
  {
   "cell_type": "markdown",
   "metadata": {},
   "source": [
    "# Run Scrublet"
   ]
  },
  {
   "cell_type": "code",
   "execution_count": 27,
   "metadata": {},
   "outputs": [
    {
     "name": "stdout",
     "output_type": "stream",
     "text": [
      "Preprocessing...\n",
      "Simulating doublets...\n",
      "Embedding transcriptomes using PCA...\n",
      "Calculating doublet scores...\n",
      "Automatically set threshold at doublet score = 0.30\n",
      "Detected doublet rate = 1.9%\n",
      "Estimated detectable doublet fraction = 68.9%\n",
      "Overall doublet rate:\n",
      "\tExpected   = 6.0%\n",
      "\tEstimated  = 2.8%\n",
      "Elapsed time: 304.5 seconds\n"
     ]
    }
   ],
   "source": [
    "scrub = scr.Scrublet(adata_raw.X, expected_doublet_rate=0.06)\n",
    "\n",
    "cdata.obs['doublet_score'], cdata.obs['predicted_doublet'] = scrub.scrub_doublets(\n",
    "    min_cells=3, \n",
    "    min_counts=3, \n",
    "    min_gene_variability_pctl=50,\n",
    "    n_prin_comps= 160\n",
    ")\n"
   ]
  },
  {
   "cell_type": "code",
   "execution_count": 26,
   "metadata": {},
   "outputs": [
    {
     "data": {
      "image/png": "[encoded data removed]",
      "text/plain": [
       "<Figure size 432x288 with 1 Axes>"
      ]
     },
     "metadata": {},
     "output_type": "display_data"
    }
   ],
   "source": [
    "sc.pl.umap(cdata)#, color=['predicted_doublet','leiden', 'leiden_fine', 'leiden_finer'], legend_loc = 'on data', legend_fontoutline=2)"
   ]
  },
  {
   "cell_type": "markdown",
   "metadata": {},
   "source": [
    "# Save SPRING plot"
   ]
  },
  {
   "cell_type": "code",
   "execution_count": 28,
   "metadata": {},
   "outputs": [
    {
     "name": "stderr",
     "output_type": "stream",
     "text": [
      "WARNING:root:spring/tox_marie is an existing SPRING folder. A new subplot will be created, but you must set `overwrite=True` to overwrite counts matrices.\n"
     ]
    },
    {
     "name": "stdout",
     "output_type": "stream",
     "text": [
      "Writing subplot to spring/tox_marie/all_cells_200425_16h44\n"
     ]
    }
   ],
   "source": [
    "!mkdir -p spring\n",
    "\n",
    "embedding_use = 'umap'\n",
    "spring_dir = 'spring/'\n",
    "\n",
    "spring_data = cdata\n",
    "spring_data.X = sp.sparse.csr.csr_matrix(spring_data.X)\n",
    "\n",
    "sc.external.exporting.spring_project(spring_data, # adata object\n",
    "                            '{}/tox_marie'.format(spring_dir), # main SPRING directory for this dataset\n",
    "                            embedding_use, # 2-D embedding to use for output\n",
    "                            subplot_name='all_cells_{}'.format(rz.now()), # SPRING subplot directory for this particular embedding/parameter set\n",
    "                           )"
   ]
  },
  {
   "cell_type": "markdown",
   "metadata": {},
   "source": [
    "# Save part 2A results in backup folder, including dimensions and time stamp"
   ]
  },
  {
   "cell_type": "code",
   "execution_count": 29,
   "metadata": {},
   "outputs": [],
   "source": [
    "anndata_output = adata_raw\n",
    "anndata_output.uns = cdata.uns\n",
    "\n",
    "#correct scanpy writer bug which doesn't allow one to write a Pandas Index as part of an anndata file saved as an h5ad file\n",
    "anndata_output.uns['spring_params'][plot_name]['genes_used'] = anndata_output.uns['spring_params'][plot_name]['genes_used'].tolist()\n",
    "\n",
    "anndata_output.obsm = cdata.obsm\n",
    "\n",
    "anndata_output.obs['leiden'] = cdata.obs['leiden']\n",
    "anndata_output.obs['leiden2'] = cdata.obs['leiden2']\n",
    "anndata_output.obs['leiden3'] = cdata.obs['leiden3']\n",
    "anndata_output.obs['leiden4'] = cdata.obs['leiden4']\n",
    "\n",
    "anndata_output.obs['doublet_score'] = cdata.obs['doublet_score']\n",
    "anndata_output.obs['predicted_doublet'] = cdata.obs['predicted_doublet']\n",
    "\n",
    "anndata_output.varm['PCs'] = np.diag(finalmask)[:,finalmask] @ cdata.varm['PCs']\n",
    "anndata_output.varm['highly_variable'] = finalmask"
   ]
  },
  {
   "cell_type": "markdown",
   "metadata": {},
   "source": [
    "## Ignore error in the line below"
   ]
  },
  {
   "cell_type": "code",
   "execution_count": 30,
   "metadata": {},
   "outputs": [
    {
     "name": "stdout",
     "output_type": "stream",
     "text": [
      "backups/tox_marie_all_cells_unnormalized_pca_umap_leiden_35358x22631_backup_200425_16h46.h5ad was written successfully.\n",
      "2.0456786155700684\n"
     ]
    }
   ],
   "source": [
    "!mkdir -p backups\n",
    "\n",
    "start = time()\n",
    "try:\n",
    "    fname = 'backups/tox_marie_all_cells_unnormalized_pca_umap_leiden_{}x{}_backup_{}.h5ad'.format(*anndata_output.shape,rz.now())\n",
    "    anndata_output.write(fname)\n",
    "except:\n",
    "    if os.path.isfile(fname):\n",
    "        print('Warning: Backup/output created with a writing error.')\n",
    "\n",
    "print('{} was written successfully.'.format(fname))\n",
    "print(time()-start)"
   ]
  },
  {
   "cell_type": "markdown",
   "metadata": {},
   "source": [
    "# Save meta data in a different file"
   ]
  },
  {
   "cell_type": "code",
   "execution_count": 31,
   "metadata": {},
   "outputs": [
    {
     "name": "stdout",
     "output_type": "stream",
     "text": [
      "backups/tox_marie_all_cells_unnormalized_pca_umap_leiden_metadata_only_35358x18_200425_16h46 was written successfully.\n",
      "0.3585383892059326\n"
     ]
    },
    {
     "name": "stderr",
     "output_type": "stream",
     "text": [
      "/home/ng136/miniconda3/envs/py36/lib/python3.6/site-packages/numpy/lib/format.py:356: UserWarning: metadata on a dtype may be saved or ignored, but will raise if saved when read. Use another form of storage.\n",
      "  d['descr'] = dtype_to_descr(array.dtype)\n"
     ]
    }
   ],
   "source": [
    "start = time()\n",
    "fname_meta = 'backups/tox_marie_all_cells_unnormalized_pca_umap_leiden_metadata_only_{}x{}_{}'.format(*anndata_output.obs.shape, rz.now())\n",
    "rz.save_df(anndata_output.obs,fname_meta)\n",
    "print('{} was written successfully.'.format(fname_meta))\n",
    "print(time()-start)"
   ]
  },
  {
   "cell_type": "code",
   "execution_count": null,
   "metadata": {},
   "outputs": [],
   "source": []
  }
 ],
 "metadata": {
  "kernelspec": {
   "display_name": "Python 3",
   "language": "python",
   "name": "python3"
  },
  "language_info": {
   "codemirror_mode": {
    "name": "ipython",
    "version": 3
   },
   "file_extension": ".py",
   "mimetype": "text/x-python",
   "name": "python",
   "nbconvert_exporter": "python",
   "pygments_lexer": "ipython3",
   "version": "3.6.10"
  }
 },
 "nbformat": 4,
 "nbformat_minor": 4
}
