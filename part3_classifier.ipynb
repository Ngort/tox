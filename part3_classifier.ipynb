{
 "cells": [
  {
   "cell_type": "code",
   "execution_count": 1,
   "metadata": {},
   "outputs": [
    {
     "name": "stderr",
     "output_type": "stream",
     "text": [
      "/home/ng136/miniconda3/envs/py36/lib/python3.6/site-packages/anndata/_core/anndata.py:21: FutureWarning: pandas.core.index is deprecated and will be removed in a future version.  The public classes are available in the top-level namespace.\n",
      "  from pandas.core.index import RangeIndex\n"
     ]
    },
    {
     "name": "stdout",
     "output_type": "stream",
     "text": [
      "python version: 3.6.10\n"
     ]
    }
   ],
   "source": [
    "import numpy as np\n",
    "import matplotlib.pyplot as plt\n",
    "import pandas as pd\n",
    "\n",
    "import scanpy as sc\n",
    "import scipy as sp\n",
    "\n",
    "import sys\n",
    "import os\n",
    "sys.path.append(os.path.abspath(\"./utility_functions\"))\n",
    "\n",
    "import rz_functions as rz\n",
    "import rz_utility_spring as srz\n",
    "\n",
    "from time import time"
   ]
  },
  {
   "cell_type": "code",
   "execution_count": 2,
   "metadata": {},
   "outputs": [],
   "source": [
    "project_dir = 'spring/tox_marie/'\n",
    "plot_name = 'all_cells_200406_04h07'"
   ]
  },
  {
   "cell_type": "code",
   "execution_count": 3,
   "metadata": {},
   "outputs": [],
   "source": [
    "# get cell filter:\n",
    "cell_ix = np.loadtxt(project_dir+plot_name+'/cell_filter.txt',dtype=int)\n",
    "\n",
    "# gene list\n",
    "gene_list = np.loadtxt(project_dir+'/genes.txt',dtype=str)"
   ]
  },
  {
   "cell_type": "code",
   "execution_count": 2,
   "metadata": {},
   "outputs": [],
   "source": [
    "adata = sc.read_h5ad('backups/tox_marie_all_cells_unnormalized_pca_umap_leiden_35358x22631_backup_200512_04h53.h5ad')"
   ]
  },
  {
   "cell_type": "code",
   "execution_count": 3,
   "metadata": {},
   "outputs": [],
   "source": [
    "Eraw = adata.X"
   ]
  },
  {
   "cell_type": "code",
   "execution_count": 4,
   "metadata": {},
   "outputs": [
    {
     "data": {
      "text/plain": [
       "(35358, 22631)"
      ]
     },
     "execution_count": 4,
     "metadata": {},
     "output_type": "execute_result"
    }
   ],
   "source": [
    "Eraw.shape"
   ]
  },
  {
   "cell_type": "markdown",
   "metadata": {},
   "source": [
    "# Load reference expression profiles in an AnnData object compatible with scanpy¶"
   ]
  },
  {
   "cell_type": "code",
   "execution_count": 5,
   "metadata": {},
   "outputs": [
    {
     "data": {
      "text/plain": [
       "(15939, 28205)"
      ]
     },
     "execution_count": 5,
     "metadata": {},
     "output_type": "execute_result"
    }
   ],
   "source": [
    "prepath = 'Zilionis_Immunity_2019/'\n",
    "# load count data\n",
    "rzdata = sc.read_mtx(prepath+'GSE127465_mouse_counts_normalized_15939x28205.mtx.gz')\n",
    "\n",
    "# load cell annotations\n",
    "rzdata.obs = pd.read_csv(prepath+'GSE127465_mouse_cell_metadata_15939x12.tsv.gz',\n",
    "            sep='\\t',comment='#')\n",
    "\n",
    "# load gene names\n",
    "rzdata.var_names = np.loadtxt(prepath+'GSE127465_gene_names_mouse_28205.tsv.gz',dtype=str)\n",
    "\n",
    "rzdata.shape"
   ]
  },
  {
   "cell_type": "code",
   "execution_count": 6,
   "metadata": {},
   "outputs": [
    {
     "name": "stderr",
     "output_type": "stream",
     "text": [
      "Transforming to str index.\n"
     ]
    }
   ],
   "source": [
    "#normalize immunity paper data to 10,000 counts per cell\n",
    "sc.pp.normalize_per_cell(rzdata,counts_per_cell_after=1e4)\n"
   ]
  },
  {
   "cell_type": "code",
   "execution_count": 7,
   "metadata": {},
   "outputs": [],
   "source": [
    "cat0 = rz.centroids('Minor subset', rzdata).T"
   ]
  },
  {
   "cell_type": "code",
   "execution_count": 8,
   "metadata": {},
   "outputs": [
    {
     "data": {
      "text/html": [
       "<div>\n",
       "<style scoped>\n",
       "    .dataframe tbody tr th:only-of-type {\n",
       "        vertical-align: middle;\n",
       "    }\n",
       "\n",
       "    .dataframe tbody tr th {\n",
       "        vertical-align: top;\n",
       "    }\n",
       "\n",
       "    .dataframe thead th {\n",
       "        text-align: right;\n",
       "    }\n",
       "</style>\n",
       "<table border=\"1\" class=\"dataframe\">\n",
       "  <thead>\n",
       "    <tr style=\"text-align: right;\">\n",
       "      <th></th>\n",
       "      <th>Mac1</th>\n",
       "      <th>DC1</th>\n",
       "      <th>DC3</th>\n",
       "      <th>Mono3</th>\n",
       "      <th>Mac2</th>\n",
       "      <th>N4</th>\n",
       "      <th>T2</th>\n",
       "      <th>Mono1</th>\n",
       "      <th>T3</th>\n",
       "      <th>T1</th>\n",
       "      <th>...</th>\n",
       "      <th>Mac3</th>\n",
       "      <th>pDC</th>\n",
       "      <th>NK cells</th>\n",
       "      <th>MonoDC</th>\n",
       "      <th>B cells</th>\n",
       "      <th>Mono2</th>\n",
       "      <th>N2</th>\n",
       "      <th>Mac4</th>\n",
       "      <th>Basophils</th>\n",
       "      <th>N3</th>\n",
       "    </tr>\n",
       "  </thead>\n",
       "  <tbody>\n",
       "    <tr>\n",
       "      <th>0610007P14Rik</th>\n",
       "      <td>0.528133</td>\n",
       "      <td>0.260421</td>\n",
       "      <td>0.469878</td>\n",
       "      <td>0.187770</td>\n",
       "      <td>0.469109</td>\n",
       "      <td>0.190145</td>\n",
       "      <td>0.402685</td>\n",
       "      <td>0.264594</td>\n",
       "      <td>1.063999</td>\n",
       "      <td>0.474985</td>\n",
       "      <td>...</td>\n",
       "      <td>0.157427</td>\n",
       "      <td>1.194086</td>\n",
       "      <td>0.468520</td>\n",
       "      <td>0.475552</td>\n",
       "      <td>0.368709</td>\n",
       "      <td>0.374221</td>\n",
       "      <td>0.083965</td>\n",
       "      <td>0.785277</td>\n",
       "      <td>0.0</td>\n",
       "      <td>0.042854</td>\n",
       "    </tr>\n",
       "    <tr>\n",
       "      <th>0610009B22Rik</th>\n",
       "      <td>0.167399</td>\n",
       "      <td>0.544554</td>\n",
       "      <td>0.033153</td>\n",
       "      <td>0.263399</td>\n",
       "      <td>0.104697</td>\n",
       "      <td>0.154510</td>\n",
       "      <td>0.032572</td>\n",
       "      <td>0.099438</td>\n",
       "      <td>0.000000</td>\n",
       "      <td>0.030961</td>\n",
       "      <td>...</td>\n",
       "      <td>0.000000</td>\n",
       "      <td>0.274819</td>\n",
       "      <td>0.141834</td>\n",
       "      <td>0.382270</td>\n",
       "      <td>0.071297</td>\n",
       "      <td>0.138071</td>\n",
       "      <td>0.033403</td>\n",
       "      <td>0.155395</td>\n",
       "      <td>0.0</td>\n",
       "      <td>0.046007</td>\n",
       "    </tr>\n",
       "    <tr>\n",
       "      <th>0610009L18Rik</th>\n",
       "      <td>0.000000</td>\n",
       "      <td>0.000000</td>\n",
       "      <td>0.020329</td>\n",
       "      <td>0.011041</td>\n",
       "      <td>0.000000</td>\n",
       "      <td>0.030162</td>\n",
       "      <td>0.118733</td>\n",
       "      <td>0.007362</td>\n",
       "      <td>0.000000</td>\n",
       "      <td>0.026514</td>\n",
       "      <td>...</td>\n",
       "      <td>0.030877</td>\n",
       "      <td>0.075785</td>\n",
       "      <td>0.017998</td>\n",
       "      <td>0.000000</td>\n",
       "      <td>0.013612</td>\n",
       "      <td>0.010631</td>\n",
       "      <td>0.000000</td>\n",
       "      <td>0.000000</td>\n",
       "      <td>0.0</td>\n",
       "      <td>0.000000</td>\n",
       "    </tr>\n",
       "    <tr>\n",
       "      <th>0610009O20Rik</th>\n",
       "      <td>0.020461</td>\n",
       "      <td>0.027731</td>\n",
       "      <td>0.015273</td>\n",
       "      <td>0.065693</td>\n",
       "      <td>0.003815</td>\n",
       "      <td>0.029087</td>\n",
       "      <td>0.101459</td>\n",
       "      <td>0.049431</td>\n",
       "      <td>0.073788</td>\n",
       "      <td>0.038778</td>\n",
       "      <td>...</td>\n",
       "      <td>0.000000</td>\n",
       "      <td>0.150212</td>\n",
       "      <td>0.054022</td>\n",
       "      <td>0.000000</td>\n",
       "      <td>0.062836</td>\n",
       "      <td>0.000000</td>\n",
       "      <td>0.000000</td>\n",
       "      <td>0.059979</td>\n",
       "      <td>0.0</td>\n",
       "      <td>0.103472</td>\n",
       "    </tr>\n",
       "    <tr>\n",
       "      <th>0610010F05Rik</th>\n",
       "      <td>0.122463</td>\n",
       "      <td>0.015066</td>\n",
       "      <td>0.272357</td>\n",
       "      <td>0.025895</td>\n",
       "      <td>0.066593</td>\n",
       "      <td>0.058477</td>\n",
       "      <td>0.109913</td>\n",
       "      <td>0.078456</td>\n",
       "      <td>0.244052</td>\n",
       "      <td>0.045135</td>\n",
       "      <td>...</td>\n",
       "      <td>0.000000</td>\n",
       "      <td>0.058566</td>\n",
       "      <td>0.111800</td>\n",
       "      <td>0.078463</td>\n",
       "      <td>0.038325</td>\n",
       "      <td>0.084380</td>\n",
       "      <td>0.064667</td>\n",
       "      <td>0.116328</td>\n",
       "      <td>0.0</td>\n",
       "      <td>0.000000</td>\n",
       "    </tr>\n",
       "  </tbody>\n",
       "</table>\n",
       "<p>5 rows × 24 columns</p>\n",
       "</div>"
      ],
      "text/plain": [
       "                   Mac1       DC1       DC3     Mono3      Mac2        N4  \\\n",
       "0610007P14Rik  0.528133  0.260421  0.469878  0.187770  0.469109  0.190145   \n",
       "0610009B22Rik  0.167399  0.544554  0.033153  0.263399  0.104697  0.154510   \n",
       "0610009L18Rik  0.000000  0.000000  0.020329  0.011041  0.000000  0.030162   \n",
       "0610009O20Rik  0.020461  0.027731  0.015273  0.065693  0.003815  0.029087   \n",
       "0610010F05Rik  0.122463  0.015066  0.272357  0.025895  0.066593  0.058477   \n",
       "\n",
       "                     T2     Mono1        T3        T1  ...      Mac3  \\\n",
       "0610007P14Rik  0.402685  0.264594  1.063999  0.474985  ...  0.157427   \n",
       "0610009B22Rik  0.032572  0.099438  0.000000  0.030961  ...  0.000000   \n",
       "0610009L18Rik  0.118733  0.007362  0.000000  0.026514  ...  0.030877   \n",
       "0610009O20Rik  0.101459  0.049431  0.073788  0.038778  ...  0.000000   \n",
       "0610010F05Rik  0.109913  0.078456  0.244052  0.045135  ...  0.000000   \n",
       "\n",
       "                    pDC  NK cells    MonoDC   B cells     Mono2        N2  \\\n",
       "0610007P14Rik  1.194086  0.468520  0.475552  0.368709  0.374221  0.083965   \n",
       "0610009B22Rik  0.274819  0.141834  0.382270  0.071297  0.138071  0.033403   \n",
       "0610009L18Rik  0.075785  0.017998  0.000000  0.013612  0.010631  0.000000   \n",
       "0610009O20Rik  0.150212  0.054022  0.000000  0.062836  0.000000  0.000000   \n",
       "0610010F05Rik  0.058566  0.111800  0.078463  0.038325  0.084380  0.064667   \n",
       "\n",
       "                   Mac4  Basophils        N3  \n",
       "0610007P14Rik  0.785277        0.0  0.042854  \n",
       "0610009B22Rik  0.155395        0.0  0.046007  \n",
       "0610009L18Rik  0.000000        0.0  0.000000  \n",
       "0610009O20Rik  0.059979        0.0  0.103472  \n",
       "0610010F05Rik  0.116328        0.0  0.000000  \n",
       "\n",
       "[5 rows x 24 columns]"
      ]
     },
     "execution_count": 8,
     "metadata": {},
     "output_type": "execute_result"
    }
   ],
   "source": [
    "cat0.head()"
   ]
  },
  {
   "cell_type": "code",
   "execution_count": 11,
   "metadata": {},
   "outputs": [],
   "source": [
    "pseudo = 0.1\n",
    "\n",
    "cat = cat0 + pseudo"
   ]
  },
  {
   "cell_type": "markdown",
   "metadata": {},
   "source": [
    "# Find common genes between the two datasets.\n",
    " Filtering on variable genes is also a possibility but I start by simply using all genes"
   ]
  },
  {
   "cell_type": "code",
   "execution_count": 12,
   "metadata": {},
   "outputs": [
    {
     "name": "stdout",
     "output_type": "stream",
     "text": [
      "<class 'scipy.sparse.csr.csr_matrix'>\n"
     ]
    }
   ],
   "source": [
    "Eraw = adata.X\n",
    "print(type(Eraw))\n",
    "\n",
    "gene_list = adata.var_names"
   ]
  },
  {
   "cell_type": "code",
   "execution_count": 13,
   "metadata": {},
   "outputs": [
    {
     "name": "stdout",
     "output_type": "stream",
     "text": [
      "22631 28205 15366\n"
     ]
    }
   ],
   "source": [
    "# common genes\n",
    "gmask = np.in1d(gene_list, cat.index)\n",
    "\n",
    "# genes detected in the current dataset:\n",
    "m2 = np.array(Eraw.sum(axis=0))[0]>0\n",
    "\n",
    "# combine masks\n",
    "gmask = gmask&m2\n",
    "\n",
    "\n",
    "common_genes = gene_list[gmask]\n",
    "print(len(gene_list),len(cat.index),len(common_genes))"
   ]
  },
  {
   "cell_type": "code",
   "execution_count": 14,
   "metadata": {},
   "outputs": [
    {
     "name": "stdout",
     "output_type": "stream",
     "text": [
      "(35358, 22631)\n"
     ]
    }
   ],
   "source": [
    "print(Eraw.shape)"
   ]
  },
  {
   "cell_type": "code",
   "execution_count": 15,
   "metadata": {},
   "outputs": [
    {
     "name": "stdout",
     "output_type": "stream",
     "text": [
      "1.59 min.\n",
      "cells from 0 to 5000 done\n",
      "3.13 min.\n",
      "cells from 5000 to 10000 done\n",
      "4.67 min.\n",
      "cells from 10000 to 15000 done\n",
      "6.22 min.\n",
      "cells from 15000 to 20000 done\n",
      "7.76 min.\n",
      "cells from 20000 to 25000 done\n",
      "9.30 min.\n",
      "cells from 25000 to 30000 done\n",
      "11.06 min.\n",
      "cells from 30000 to 35000 done\n",
      "11.17 min.\n",
      "cells from 35000 to 35358 done\n",
      "backups/loglikelihoods_bay_classif_tox_marie_all_cells_200423_20h42\n"
     ]
    }
   ],
   "source": [
    "start = time()\n",
    "bays = []\n",
    "i = 0\n",
    "step=5000\n",
    "comment = 'tox_marie_all_cells'\n",
    "for j in range(step,Eraw.shape[0]+step,step):\n",
    "    \n",
    "    # Eraw - sparse cells x gene matrix\n",
    "    j = min(j,Eraw.shape[0])\n",
    "    tmp_dense = pd.DataFrame(Eraw.T[gmask][:,i:j].todense())\n",
    "    tmp_dense.index = np.array(gene_list)[gmask]\n",
    "    \n",
    "    bay = rz.bayesian_classifier(tmp_dense,cat.loc[common_genes])\n",
    "    bays.append(bay)\n",
    "    i0 = i\n",
    "    i = j\n",
    "    \n",
    "    print('%.2f min.'%((time()-start)/60.))\n",
    "    print('cells from %d to %d done'%(i0,j))\n",
    "\n",
    "# conenate\n",
    "bay = pd.concat(bays,axis=1)\n",
    "\n",
    "# reset index\n",
    "bay.columns = np.arange(bay.shape[1])\n",
    "\n",
    "fname = 'backups/loglikelihoods_bay_classif_%s_%s'%(comment,rz.now())\n",
    "print(fname)\n",
    "rz.save_df(bay,fname)"
   ]
  },
  {
   "cell_type": "markdown",
   "metadata": {},
   "source": [
    "# Add results to SPRING plot (to do)"
   ]
  },
  {
   "cell_type": "code",
   "execution_count": 16,
   "metadata": {},
   "outputs": [
    {
     "name": "stdout",
     "output_type": "stream",
     "text": [
      "35358\n",
      "35358\n"
     ]
    },
    {
     "data": {
      "text/plain": [
       "['Mac1', 'N1', 'NK cells', 'Mono2', 'T1', 'DC3', 'N2', 'T2', 'N2', 'Mac1']"
      ]
     },
     "execution_count": 16,
     "metadata": {},
     "output_type": "execute_result"
    }
   ],
   "source": [
    "# get profile with max likelihood\n",
    "mostlikely = bay.idxmax().values\n",
    "print(len(mostlikely))\n",
    "print(len(cell_ix))\n",
    "\n",
    "# use cell_ix to only select cell in the desired spring plot:\n",
    "mostlikely = list(mostlikely[cell_ix])\n",
    "mostlikely[:10]"
   ]
  },
  {
   "cell_type": "code",
   "execution_count": 17,
   "metadata": {},
   "outputs": [
    {
     "data": {
      "text/html": [
       "<div>\n",
       "<style scoped>\n",
       "    .dataframe tbody tr th:only-of-type {\n",
       "        vertical-align: middle;\n",
       "    }\n",
       "\n",
       "    .dataframe tbody tr th {\n",
       "        vertical-align: top;\n",
       "    }\n",
       "\n",
       "    .dataframe thead th {\n",
       "        text-align: right;\n",
       "    }\n",
       "</style>\n",
       "<table border=\"1\" class=\"dataframe\">\n",
       "  <thead>\n",
       "    <tr style=\"text-align: right;\">\n",
       "      <th></th>\n",
       "      <th>0</th>\n",
       "      <th>1</th>\n",
       "      <th>2</th>\n",
       "      <th>3</th>\n",
       "      <th>4</th>\n",
       "      <th>5</th>\n",
       "      <th>6</th>\n",
       "      <th>7</th>\n",
       "      <th>8</th>\n",
       "      <th>9</th>\n",
       "      <th>...</th>\n",
       "      <th>35348</th>\n",
       "      <th>35349</th>\n",
       "      <th>35350</th>\n",
       "      <th>35351</th>\n",
       "      <th>35352</th>\n",
       "      <th>35353</th>\n",
       "      <th>35354</th>\n",
       "      <th>35355</th>\n",
       "      <th>35356</th>\n",
       "      <th>35357</th>\n",
       "    </tr>\n",
       "  </thead>\n",
       "  <tbody>\n",
       "    <tr>\n",
       "      <th>Mac1</th>\n",
       "      <td>-39162.118609</td>\n",
       "      <td>-35145.387562</td>\n",
       "      <td>-36759.675174</td>\n",
       "      <td>-35462.852727</td>\n",
       "      <td>-33972.462772</td>\n",
       "      <td>-35021.474375</td>\n",
       "      <td>-34209.800299</td>\n",
       "      <td>-35075.359652</td>\n",
       "      <td>-34648.645732</td>\n",
       "      <td>-39511.479141</td>\n",
       "      <td>...</td>\n",
       "      <td>-35345.142965</td>\n",
       "      <td>-34972.453339</td>\n",
       "      <td>-34339.130683</td>\n",
       "      <td>-33725.252254</td>\n",
       "      <td>-35896.214822</td>\n",
       "      <td>-34045.815666</td>\n",
       "      <td>-34137.365587</td>\n",
       "      <td>-34118.731282</td>\n",
       "      <td>-35206.792544</td>\n",
       "      <td>-33647.921754</td>\n",
       "    </tr>\n",
       "    <tr>\n",
       "      <th>DC1</th>\n",
       "      <td>-39654.735740</td>\n",
       "      <td>-37066.770842</td>\n",
       "      <td>-36629.516231</td>\n",
       "      <td>-35277.164524</td>\n",
       "      <td>-33085.122544</td>\n",
       "      <td>-34450.321539</td>\n",
       "      <td>-36381.763101</td>\n",
       "      <td>-34885.443120</td>\n",
       "      <td>-36538.150276</td>\n",
       "      <td>-39904.965410</td>\n",
       "      <td>...</td>\n",
       "      <td>-35262.471926</td>\n",
       "      <td>-34448.416716</td>\n",
       "      <td>-34110.254412</td>\n",
       "      <td>-33052.088903</td>\n",
       "      <td>-35351.116293</td>\n",
       "      <td>-33712.150361</td>\n",
       "      <td>-33550.220790</td>\n",
       "      <td>-33521.677814</td>\n",
       "      <td>-34977.074089</td>\n",
       "      <td>-34959.417713</td>\n",
       "    </tr>\n",
       "    <tr>\n",
       "      <th>DC3</th>\n",
       "      <td>-39901.974412</td>\n",
       "      <td>-36659.554409</td>\n",
       "      <td>-36671.233271</td>\n",
       "      <td>-35621.928215</td>\n",
       "      <td>-33432.305634</td>\n",
       "      <td>-32243.555812</td>\n",
       "      <td>-36088.618991</td>\n",
       "      <td>-34837.220525</td>\n",
       "      <td>-36108.491045</td>\n",
       "      <td>-39936.644769</td>\n",
       "      <td>...</td>\n",
       "      <td>-33075.439184</td>\n",
       "      <td>-31880.416581</td>\n",
       "      <td>-32997.966511</td>\n",
       "      <td>-31530.042341</td>\n",
       "      <td>-35906.551468</td>\n",
       "      <td>-32173.910758</td>\n",
       "      <td>-31358.925480</td>\n",
       "      <td>-31803.577192</td>\n",
       "      <td>-32645.884030</td>\n",
       "      <td>-35141.939812</td>\n",
       "    </tr>\n",
       "    <tr>\n",
       "      <th>Mono3</th>\n",
       "      <td>-39489.135998</td>\n",
       "      <td>-32177.351615</td>\n",
       "      <td>-37070.546677</td>\n",
       "      <td>-34755.618977</td>\n",
       "      <td>-34604.391279</td>\n",
       "      <td>-35435.119870</td>\n",
       "      <td>-32269.952276</td>\n",
       "      <td>-35020.882318</td>\n",
       "      <td>-32711.302564</td>\n",
       "      <td>-39768.868313</td>\n",
       "      <td>...</td>\n",
       "      <td>-35569.881640</td>\n",
       "      <td>-35552.783070</td>\n",
       "      <td>-34595.055525</td>\n",
       "      <td>-34143.487760</td>\n",
       "      <td>-36472.894296</td>\n",
       "      <td>-34729.953309</td>\n",
       "      <td>-35106.687998</td>\n",
       "      <td>-34677.490725</td>\n",
       "      <td>-35677.095727</td>\n",
       "      <td>-34121.820135</td>\n",
       "    </tr>\n",
       "    <tr>\n",
       "      <th>Mac2</th>\n",
       "      <td>-39761.288567</td>\n",
       "      <td>-36467.563246</td>\n",
       "      <td>-37660.605445</td>\n",
       "      <td>-36375.755703</td>\n",
       "      <td>-34940.940318</td>\n",
       "      <td>-36333.917906</td>\n",
       "      <td>-35284.645106</td>\n",
       "      <td>-35986.384228</td>\n",
       "      <td>-35539.409979</td>\n",
       "      <td>-40108.496682</td>\n",
       "      <td>...</td>\n",
       "      <td>-36665.294532</td>\n",
       "      <td>-36391.976465</td>\n",
       "      <td>-35462.274391</td>\n",
       "      <td>-34922.868548</td>\n",
       "      <td>-36637.906763</td>\n",
       "      <td>-35287.929944</td>\n",
       "      <td>-35624.734454</td>\n",
       "      <td>-35241.525054</td>\n",
       "      <td>-36378.381305</td>\n",
       "      <td>-34431.154615</td>\n",
       "    </tr>\n",
       "  </tbody>\n",
       "</table>\n",
       "<p>5 rows × 35358 columns</p>\n",
       "</div>"
      ],
      "text/plain": [
       "              0             1             2             3             4      \\\n",
       "Mac1  -39162.118609 -35145.387562 -36759.675174 -35462.852727 -33972.462772   \n",
       "DC1   -39654.735740 -37066.770842 -36629.516231 -35277.164524 -33085.122544   \n",
       "DC3   -39901.974412 -36659.554409 -36671.233271 -35621.928215 -33432.305634   \n",
       "Mono3 -39489.135998 -32177.351615 -37070.546677 -34755.618977 -34604.391279   \n",
       "Mac2  -39761.288567 -36467.563246 -37660.605445 -36375.755703 -34940.940318   \n",
       "\n",
       "              5             6             7             8             9      \\\n",
       "Mac1  -35021.474375 -34209.800299 -35075.359652 -34648.645732 -39511.479141   \n",
       "DC1   -34450.321539 -36381.763101 -34885.443120 -36538.150276 -39904.965410   \n",
       "DC3   -32243.555812 -36088.618991 -34837.220525 -36108.491045 -39936.644769   \n",
       "Mono3 -35435.119870 -32269.952276 -35020.882318 -32711.302564 -39768.868313   \n",
       "Mac2  -36333.917906 -35284.645106 -35986.384228 -35539.409979 -40108.496682   \n",
       "\n",
       "       ...         35348         35349         35350         35351  \\\n",
       "Mac1   ... -35345.142965 -34972.453339 -34339.130683 -33725.252254   \n",
       "DC1    ... -35262.471926 -34448.416716 -34110.254412 -33052.088903   \n",
       "DC3    ... -33075.439184 -31880.416581 -32997.966511 -31530.042341   \n",
       "Mono3  ... -35569.881640 -35552.783070 -34595.055525 -34143.487760   \n",
       "Mac2   ... -36665.294532 -36391.976465 -35462.274391 -34922.868548   \n",
       "\n",
       "              35352         35353         35354         35355         35356  \\\n",
       "Mac1  -35896.214822 -34045.815666 -34137.365587 -34118.731282 -35206.792544   \n",
       "DC1   -35351.116293 -33712.150361 -33550.220790 -33521.677814 -34977.074089   \n",
       "DC3   -35906.551468 -32173.910758 -31358.925480 -31803.577192 -32645.884030   \n",
       "Mono3 -36472.894296 -34729.953309 -35106.687998 -34677.490725 -35677.095727   \n",
       "Mac2  -36637.906763 -35287.929944 -35624.734454 -35241.525054 -36378.381305   \n",
       "\n",
       "              35357  \n",
       "Mac1  -33647.921754  \n",
       "DC1   -34959.417713  \n",
       "DC3   -35141.939812  \n",
       "Mono3 -34121.820135  \n",
       "Mac2  -34431.154615  \n",
       "\n",
       "[5 rows x 35358 columns]"
      ]
     },
     "execution_count": 17,
     "metadata": {},
     "output_type": "execute_result"
    }
   ],
   "source": [
    "bay.head()"
   ]
  }
 ],
 "metadata": {
  "kernelspec": {
   "display_name": "Python 3",
   "language": "python",
   "name": "python3"
  },
  "language_info": {
   "codemirror_mode": {
    "name": "ipython",
    "version": 3
   },
   "file_extension": ".py",
   "mimetype": "text/x-python",
   "name": "python",
   "nbconvert_exporter": "python",
   "pygments_lexer": "ipython3",
   "version": "3.6.10"
  }
 },
 "nbformat": 4,
 "nbformat_minor": 4
}
