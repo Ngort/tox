{
 "cells": [
  {
   "cell_type": "code",
   "execution_count": 1,
   "metadata": {},
   "outputs": [
    {
     "name": "stderr",
     "output_type": "stream",
     "text": [
      "/home/ng136/miniconda3/envs/py36/lib/python3.6/site-packages/anndata/_core/anndata.py:21: FutureWarning: pandas.core.index is deprecated and will be removed in a future version.  The public classes are available in the top-level namespace.\n",
      "  from pandas.core.index import RangeIndex\n"
     ]
    },
    {
     "name": "stdout",
     "output_type": "stream",
     "text": [
      "python version: 3.6.10\n"
     ]
    }
   ],
   "source": [
    "import numpy as np\n",
    "import matplotlib.pyplot as plt\n",
    "import pandas as pd\n",
    "\n",
    "import scanpy as sc\n",
    "import scipy as sp\n",
    "\n",
    "import sys\n",
    "import os\n",
    "sys.path.append(os.path.abspath(\"./utility_functions\"))\n",
    "\n",
    "import rz_functions as rz\n",
    "import rz_utility_spring as srz\n",
    "\n",
    "from time import time"
   ]
  },
  {
   "cell_type": "code",
   "execution_count": 2,
   "metadata": {},
   "outputs": [],
   "source": [
    "project_dir = 'spring/tox_marie/'\n",
    "plot_name = 'all_cells_200406_04h07'"
   ]
  },
  {
   "cell_type": "code",
   "execution_count": 3,
   "metadata": {},
   "outputs": [
    {
     "data": {
      "text/plain": [
       "True"
      ]
     },
     "execution_count": 3,
     "metadata": {},
     "output_type": "execute_result"
    }
   ],
   "source": [
    "# get cell filter:\n",
    "cell_ix = np.loadtxt(project_dir+plot_name+'/cell_filter.txt',dtype=int)\n",
    "\n",
    "# gene list\n",
    "gene_list = np.loadtxt(project_dir+'/genes.txt',dtype=str)"
   ]
  },
  {
   "cell_type": "code",
   "execution_count": 7,
   "metadata": {},
   "outputs": [],
   "source": [
    "adata = 'backups/tox_marie_all_cells_unnormalized_pca_umap_leiden_35358x22631_backup_200412_21h30.h5ad'"
   ]
  },
  {
   "cell_type": "code",
   "execution_count": 8,
   "metadata": {},
   "outputs": [],
   "source": [
    "Eraw = adata.X"
   ]
  },
  {
   "cell_type": "code",
   "execution_count": 9,
   "metadata": {},
   "outputs": [
    {
     "data": {
      "text/plain": [
       "(35358, 22631)"
      ]
     },
     "execution_count": 9,
     "metadata": {},
     "output_type": "execute_result"
    }
   ],
   "source": [
    "Eraw.shape"
   ]
  },
  {
   "cell_type": "markdown",
   "metadata": {},
   "source": [
    "# Load reference expression profiles in an AnnData object compatible with scanpy¶"
   ]
  },
  {
   "cell_type": "code",
   "execution_count": 10,
   "metadata": {},
   "outputs": [],
   "source": [
    "prepath = 'Zilionis_Immunity_2019/'"
   ]
  },
  {
   "cell_type": "code",
   "execution_count": 11,
   "metadata": {},
   "outputs": [
    {
     "data": {
      "text/plain": [
       "(15939, 28205)"
      ]
     },
     "execution_count": 11,
     "metadata": {},
     "output_type": "execute_result"
    }
   ],
   "source": [
    "# load count data\n",
    "rzdata = sc.read_mtx(prepath+'GSE127465_mouse_counts_normalized_15939x28205.mtx.gz')\n",
    "\n",
    "# load cell annotations\n",
    "rzdata.obs = pd.read_csv(prepath+'GSE127465_mouse_cell_metadata_15939x12.tsv.gz',\n",
    "            sep='\\t',comment='#')\n",
    "\n",
    "# load gene names\n",
    "rzdata.var_names = np.loadtxt(prepath+'GSE127465_gene_names_mouse_28205.tsv.gz',dtype=str)\n",
    "\n",
    "rzdata.shape"
   ]
  },
  {
   "cell_type": "code",
   "execution_count": 12,
   "metadata": {},
   "outputs": [
    {
     "name": "stderr",
     "output_type": "stream",
     "text": [
      "Transforming to str index.\n"
     ]
    }
   ],
   "source": [
    "#normalize immunity paper data to 10,000 counts per cell\n",
    "sc.pp.normalize_per_cell(rzdata,counts_per_cell_after=1e4)\n"
   ]
  },
  {
   "cell_type": "code",
   "execution_count": 13,
   "metadata": {},
   "outputs": [],
   "source": [
    "cat0 = rz.centroids('Minor subset', rzdata).T"
   ]
  },
  {
   "cell_type": "code",
   "execution_count": 14,
   "metadata": {},
   "outputs": [
    {
     "data": {
      "text/html": [
       "<div>\n",
       "<style scoped>\n",
       "    .dataframe tbody tr th:only-of-type {\n",
       "        vertical-align: middle;\n",
       "    }\n",
       "\n",
       "    .dataframe tbody tr th {\n",
       "        vertical-align: top;\n",
       "    }\n",
       "\n",
       "    .dataframe thead th {\n",
       "        text-align: right;\n",
       "    }\n",
       "</style>\n",
       "<table border=\"1\" class=\"dataframe\">\n",
       "  <thead>\n",
       "    <tr style=\"text-align: right;\">\n",
       "      <th></th>\n",
       "      <th>Mac1</th>\n",
       "      <th>DC1</th>\n",
       "      <th>DC3</th>\n",
       "      <th>Mono3</th>\n",
       "      <th>Mac2</th>\n",
       "      <th>N4</th>\n",
       "      <th>T2</th>\n",
       "      <th>Mono1</th>\n",
       "      <th>T3</th>\n",
       "      <th>T1</th>\n",
       "      <th>...</th>\n",
       "      <th>Mac3</th>\n",
       "      <th>pDC</th>\n",
       "      <th>NK cells</th>\n",
       "      <th>MonoDC</th>\n",
       "      <th>B cells</th>\n",
       "      <th>Mono2</th>\n",
       "      <th>N2</th>\n",
       "      <th>Mac4</th>\n",
       "      <th>Basophils</th>\n",
       "      <th>N3</th>\n",
       "    </tr>\n",
       "  </thead>\n",
       "  <tbody>\n",
       "    <tr>\n",
       "      <th>0610007P14Rik</th>\n",
       "      <td>0.528133</td>\n",
       "      <td>0.260421</td>\n",
       "      <td>0.469878</td>\n",
       "      <td>0.187770</td>\n",
       "      <td>0.469109</td>\n",
       "      <td>0.190145</td>\n",
       "      <td>0.402685</td>\n",
       "      <td>0.264594</td>\n",
       "      <td>1.063999</td>\n",
       "      <td>0.474985</td>\n",
       "      <td>...</td>\n",
       "      <td>0.157427</td>\n",
       "      <td>1.194086</td>\n",
       "      <td>0.468520</td>\n",
       "      <td>0.475552</td>\n",
       "      <td>0.368709</td>\n",
       "      <td>0.374221</td>\n",
       "      <td>0.083965</td>\n",
       "      <td>0.785277</td>\n",
       "      <td>0.0</td>\n",
       "      <td>0.042854</td>\n",
       "    </tr>\n",
       "    <tr>\n",
       "      <th>0610009B22Rik</th>\n",
       "      <td>0.167399</td>\n",
       "      <td>0.544554</td>\n",
       "      <td>0.033153</td>\n",
       "      <td>0.263399</td>\n",
       "      <td>0.104697</td>\n",
       "      <td>0.154510</td>\n",
       "      <td>0.032572</td>\n",
       "      <td>0.099438</td>\n",
       "      <td>0.000000</td>\n",
       "      <td>0.030961</td>\n",
       "      <td>...</td>\n",
       "      <td>0.000000</td>\n",
       "      <td>0.274819</td>\n",
       "      <td>0.141834</td>\n",
       "      <td>0.382270</td>\n",
       "      <td>0.071297</td>\n",
       "      <td>0.138071</td>\n",
       "      <td>0.033403</td>\n",
       "      <td>0.155395</td>\n",
       "      <td>0.0</td>\n",
       "      <td>0.046007</td>\n",
       "    </tr>\n",
       "    <tr>\n",
       "      <th>0610009L18Rik</th>\n",
       "      <td>0.000000</td>\n",
       "      <td>0.000000</td>\n",
       "      <td>0.020329</td>\n",
       "      <td>0.011041</td>\n",
       "      <td>0.000000</td>\n",
       "      <td>0.030162</td>\n",
       "      <td>0.118733</td>\n",
       "      <td>0.007362</td>\n",
       "      <td>0.000000</td>\n",
       "      <td>0.026514</td>\n",
       "      <td>...</td>\n",
       "      <td>0.030877</td>\n",
       "      <td>0.075785</td>\n",
       "      <td>0.017998</td>\n",
       "      <td>0.000000</td>\n",
       "      <td>0.013612</td>\n",
       "      <td>0.010631</td>\n",
       "      <td>0.000000</td>\n",
       "      <td>0.000000</td>\n",
       "      <td>0.0</td>\n",
       "      <td>0.000000</td>\n",
       "    </tr>\n",
       "    <tr>\n",
       "      <th>0610009O20Rik</th>\n",
       "      <td>0.020461</td>\n",
       "      <td>0.027731</td>\n",
       "      <td>0.015273</td>\n",
       "      <td>0.065693</td>\n",
       "      <td>0.003815</td>\n",
       "      <td>0.029087</td>\n",
       "      <td>0.101459</td>\n",
       "      <td>0.049431</td>\n",
       "      <td>0.073788</td>\n",
       "      <td>0.038778</td>\n",
       "      <td>...</td>\n",
       "      <td>0.000000</td>\n",
       "      <td>0.150212</td>\n",
       "      <td>0.054022</td>\n",
       "      <td>0.000000</td>\n",
       "      <td>0.062836</td>\n",
       "      <td>0.000000</td>\n",
       "      <td>0.000000</td>\n",
       "      <td>0.059979</td>\n",
       "      <td>0.0</td>\n",
       "      <td>0.103472</td>\n",
       "    </tr>\n",
       "    <tr>\n",
       "      <th>0610010F05Rik</th>\n",
       "      <td>0.122463</td>\n",
       "      <td>0.015066</td>\n",
       "      <td>0.272357</td>\n",
       "      <td>0.025895</td>\n",
       "      <td>0.066593</td>\n",
       "      <td>0.058477</td>\n",
       "      <td>0.109913</td>\n",
       "      <td>0.078456</td>\n",
       "      <td>0.244052</td>\n",
       "      <td>0.045135</td>\n",
       "      <td>...</td>\n",
       "      <td>0.000000</td>\n",
       "      <td>0.058566</td>\n",
       "      <td>0.111800</td>\n",
       "      <td>0.078463</td>\n",
       "      <td>0.038325</td>\n",
       "      <td>0.084380</td>\n",
       "      <td>0.064667</td>\n",
       "      <td>0.116328</td>\n",
       "      <td>0.0</td>\n",
       "      <td>0.000000</td>\n",
       "    </tr>\n",
       "  </tbody>\n",
       "</table>\n",
       "<p>5 rows × 24 columns</p>\n",
       "</div>"
      ],
      "text/plain": [
       "                   Mac1       DC1       DC3     Mono3      Mac2        N4  \\\n",
       "0610007P14Rik  0.528133  0.260421  0.469878  0.187770  0.469109  0.190145   \n",
       "0610009B22Rik  0.167399  0.544554  0.033153  0.263399  0.104697  0.154510   \n",
       "0610009L18Rik  0.000000  0.000000  0.020329  0.011041  0.000000  0.030162   \n",
       "0610009O20Rik  0.020461  0.027731  0.015273  0.065693  0.003815  0.029087   \n",
       "0610010F05Rik  0.122463  0.015066  0.272357  0.025895  0.066593  0.058477   \n",
       "\n",
       "                     T2     Mono1        T3        T1  ...      Mac3  \\\n",
       "0610007P14Rik  0.402685  0.264594  1.063999  0.474985  ...  0.157427   \n",
       "0610009B22Rik  0.032572  0.099438  0.000000  0.030961  ...  0.000000   \n",
       "0610009L18Rik  0.118733  0.007362  0.000000  0.026514  ...  0.030877   \n",
       "0610009O20Rik  0.101459  0.049431  0.073788  0.038778  ...  0.000000   \n",
       "0610010F05Rik  0.109913  0.078456  0.244052  0.045135  ...  0.000000   \n",
       "\n",
       "                    pDC  NK cells    MonoDC   B cells     Mono2        N2  \\\n",
       "0610007P14Rik  1.194086  0.468520  0.475552  0.368709  0.374221  0.083965   \n",
       "0610009B22Rik  0.274819  0.141834  0.382270  0.071297  0.138071  0.033403   \n",
       "0610009L18Rik  0.075785  0.017998  0.000000  0.013612  0.010631  0.000000   \n",
       "0610009O20Rik  0.150212  0.054022  0.000000  0.062836  0.000000  0.000000   \n",
       "0610010F05Rik  0.058566  0.111800  0.078463  0.038325  0.084380  0.064667   \n",
       "\n",
       "                   Mac4  Basophils        N3  \n",
       "0610007P14Rik  0.785277        0.0  0.042854  \n",
       "0610009B22Rik  0.155395        0.0  0.046007  \n",
       "0610009L18Rik  0.000000        0.0  0.000000  \n",
       "0610009O20Rik  0.059979        0.0  0.103472  \n",
       "0610010F05Rik  0.116328        0.0  0.000000  \n",
       "\n",
       "[5 rows x 24 columns]"
      ]
     },
     "execution_count": 14,
     "metadata": {},
     "output_type": "execute_result"
    }
   ],
   "source": [
    "cat0.head()"
   ]
  },
  {
   "cell_type": "code",
   "execution_count": 15,
   "metadata": {},
   "outputs": [],
   "source": [
    "pseudo = 0.1\n",
    "\n",
    "cat = cat0 + pseudo"
   ]
  },
  {
   "cell_type": "markdown",
   "metadata": {},
   "source": [
    "# Find common genes between the two datasets.\n",
    " Filtering on variable genes is also a possibility but I start by simply using all genes"
   ]
  },
  {
   "cell_type": "code",
   "execution_count": 16,
   "metadata": {},
   "outputs": [
    {
     "name": "stdout",
     "output_type": "stream",
     "text": [
      "<class 'scipy.sparse.csr.csr_matrix'>\n"
     ]
    }
   ],
   "source": [
    "Eraw = adata.X\n",
    "print(type(Eraw))\n",
    "\n",
    "gene_list = adata.var_names"
   ]
  },
  {
   "cell_type": "code",
   "execution_count": 17,
   "metadata": {},
   "outputs": [
    {
     "name": "stdout",
     "output_type": "stream",
     "text": [
      "22631 28205 15366\n"
     ]
    }
   ],
   "source": [
    "# common genes\n",
    "gmask = np.in1d(gene_list, cat.index)\n",
    "\n",
    "# genes detected in the current dataset:\n",
    "m2 = np.array(Eraw.sum(axis=0))[0]>0\n",
    "\n",
    "# combine masks\n",
    "gmask = gmask&m2\n",
    "\n",
    "\n",
    "common_genes = gene_list[gmask]\n",
    "print(len(gene_list),len(cat.index),len(common_genes))"
   ]
  },
  {
   "cell_type": "code",
   "execution_count": 18,
   "metadata": {},
   "outputs": [
    {
     "name": "stdout",
     "output_type": "stream",
     "text": [
      "(35358, 22631)\n"
     ]
    }
   ],
   "source": [
    "print(Eraw.shape)"
   ]
  },
  {
   "cell_type": "code",
   "execution_count": 19,
   "metadata": {},
   "outputs": [
    {
     "name": "stdout",
     "output_type": "stream",
     "text": [
      "1.57 min.\n",
      "cells from 0 to 5000 done\n",
      "3.14 min.\n",
      "cells from 5000 to 10000 done\n",
      "4.66 min.\n",
      "cells from 10000 to 15000 done\n",
      "6.20 min.\n",
      "cells from 15000 to 20000 done\n",
      "7.73 min.\n",
      "cells from 20000 to 25000 done\n",
      "9.29 min.\n",
      "cells from 25000 to 30000 done\n",
      "10.81 min.\n",
      "cells from 30000 to 35000 done\n",
      "10.92 min.\n",
      "cells from 35000 to 35358 done\n",
      "backups/loglikelihoods_bay_classif_tox_marie_all_cells_200408_00h46\n"
     ]
    }
   ],
   "source": [
    "start = time()\n",
    "bays = []\n",
    "i = 0\n",
    "step=5000\n",
    "comment = 'tox_marie_all_cells'\n",
    "for j in range(step,Eraw.shape[0]+step,step):\n",
    "    \n",
    "    # Eraw - sparse cells x gene matrix\n",
    "    j = min(j,Eraw.shape[0])\n",
    "    tmp_dense = pd.DataFrame(Eraw.T[gmask][:,i:j].todense())\n",
    "    tmp_dense.index = np.array(gene_list)[gmask]\n",
    "    \n",
    "    bay = rz.bayesian_classifier(tmp_dense,cat.loc[common_genes])\n",
    "    bays.append(bay)\n",
    "    i0 = i\n",
    "    i = j\n",
    "    \n",
    "    print('%.2f min.'%((time()-start)/60.))\n",
    "    print('cells from %d to %d done'%(i0,j))\n",
    "\n",
    "# conenate\n",
    "bay = pd.concat(bays,axis=1)\n",
    "\n",
    "# reset index\n",
    "bay.columns = np.arange(bay.shape[1])\n",
    "\n",
    "fname = 'backups/loglikelihoods_bay_classif_%s_%s'%(comment,rz.now())\n",
    "print(fname)\n",
    "rz.save_df(bay,fname)"
   ]
  },
  {
   "cell_type": "markdown",
   "metadata": {},
   "source": [
    "# Add results to SPRING plot (to do)"
   ]
  },
  {
   "cell_type": "code",
   "execution_count": 20,
   "metadata": {},
   "outputs": [
    {
     "name": "stdout",
     "output_type": "stream",
     "text": [
      "35358\n",
      "35358\n"
     ]
    },
    {
     "data": {
      "text/plain": [
       "['Mac1', 'N1', 'NK cells', 'Mono2', 'T1', 'DC3', 'N2', 'T2', 'N2', 'Mac1']"
      ]
     },
     "execution_count": 20,
     "metadata": {},
     "output_type": "execute_result"
    }
   ],
   "source": [
    "# get profile with max likelihood\n",
    "mostlikely = bay.idxmax().values\n",
    "print(len(mostlikely))\n",
    "print(len(cell_ix))\n",
    "\n",
    "# use cell_ix to only select cell in the desired spring plot:\n",
    "mostlikely = list(mostlikely[cell_ix])\n",
    "mostlikely[:10]"
   ]
  },
  {
   "cell_type": "code",
   "execution_count": 21,
   "metadata": {},
   "outputs": [
    {
     "data": {
      "text/html": [
       "<div>\n",
       "<style scoped>\n",
       "    .dataframe tbody tr th:only-of-type {\n",
       "        vertical-align: middle;\n",
       "    }\n",
       "\n",
       "    .dataframe tbody tr th {\n",
       "        vertical-align: top;\n",
       "    }\n",
       "\n",
       "    .dataframe thead th {\n",
       "        text-align: right;\n",
       "    }\n",
       "</style>\n",
       "<table border=\"1\" class=\"dataframe\">\n",
       "  <thead>\n",
       "    <tr style=\"text-align: right;\">\n",
       "      <th></th>\n",
       "      <th>0</th>\n",
       "      <th>1</th>\n",
       "      <th>2</th>\n",
       "      <th>3</th>\n",
       "      <th>4</th>\n",
       "      <th>5</th>\n",
       "      <th>6</th>\n",
       "      <th>7</th>\n",
       "      <th>8</th>\n",
       "      <th>9</th>\n",
       "      <th>...</th>\n",
       "      <th>35348</th>\n",
       "      <th>35349</th>\n",
       "      <th>35350</th>\n",
       "      <th>35351</th>\n",
       "      <th>35352</th>\n",
       "      <th>35353</th>\n",
       "      <th>35354</th>\n",
       "      <th>35355</th>\n",
       "      <th>35356</th>\n",
       "      <th>35357</th>\n",
       "    </tr>\n",
       "  </thead>\n",
       "  <tbody>\n",
       "    <tr>\n",
       "      <th>Mac1</th>\n",
       "      <td>-1625.227902</td>\n",
       "      <td>-3757.041910</td>\n",
       "      <td>-2488.629885</td>\n",
       "      <td>-1773.142636</td>\n",
       "      <td>-2130.073564</td>\n",
       "      <td>-4817.528489</td>\n",
       "      <td>-814.193230</td>\n",
       "      <td>-2167.657116</td>\n",
       "      <td>-1430.989031</td>\n",
       "      <td>-1868.892945</td>\n",
       "      <td>...</td>\n",
       "      <td>-6140.197042</td>\n",
       "      <td>-4784.231735</td>\n",
       "      <td>-2186.351560</td>\n",
       "      <td>-1595.204412</td>\n",
       "      <td>-8069.469067</td>\n",
       "      <td>-949.878185</td>\n",
       "      <td>-3591.251020</td>\n",
       "      <td>-2504.314787</td>\n",
       "      <td>-4754.326110</td>\n",
       "      <td>-3506.113237</td>\n",
       "    </tr>\n",
       "    <tr>\n",
       "      <th>DC1</th>\n",
       "      <td>-1645.671513</td>\n",
       "      <td>-3962.437781</td>\n",
       "      <td>-2479.818125</td>\n",
       "      <td>-1763.858226</td>\n",
       "      <td>-2074.437328</td>\n",
       "      <td>-4738.976058</td>\n",
       "      <td>-865.885944</td>\n",
       "      <td>-2155.920275</td>\n",
       "      <td>-1509.025566</td>\n",
       "      <td>-1887.504846</td>\n",
       "      <td>...</td>\n",
       "      <td>-6126.002926</td>\n",
       "      <td>-4712.543523</td>\n",
       "      <td>-2171.966556</td>\n",
       "      <td>-1563.363786</td>\n",
       "      <td>-7946.930918</td>\n",
       "      <td>-940.568923</td>\n",
       "      <td>-3529.483387</td>\n",
       "      <td>-2460.491064</td>\n",
       "      <td>-4723.873380</td>\n",
       "      <td>-3642.771109</td>\n",
       "    </tr>\n",
       "    <tr>\n",
       "      <th>DC3</th>\n",
       "      <td>-1655.931918</td>\n",
       "      <td>-3918.906346</td>\n",
       "      <td>-2482.642368</td>\n",
       "      <td>-1781.096411</td>\n",
       "      <td>-2096.205709</td>\n",
       "      <td>-4436.082208</td>\n",
       "      <td>-858.909114</td>\n",
       "      <td>-2152.940119</td>\n",
       "      <td>-1491.280640</td>\n",
       "      <td>-1889.003279</td>\n",
       "      <td>...</td>\n",
       "      <td>-5747.414860</td>\n",
       "      <td>-4361.241097</td>\n",
       "      <td>-2103.602341</td>\n",
       "      <td>-1491.370985</td>\n",
       "      <td>-8071.792746</td>\n",
       "      <td>-897.652042</td>\n",
       "      <td>-3298.959111</td>\n",
       "      <td>-2334.382484</td>\n",
       "      <td>-4414.932476</td>\n",
       "      <td>-3661.789910</td>\n",
       "    </tr>\n",
       "    <tr>\n",
       "      <th>Mono3</th>\n",
       "      <td>-1638.799124</td>\n",
       "      <td>-3439.758871</td>\n",
       "      <td>-2509.675886</td>\n",
       "      <td>-1737.780949</td>\n",
       "      <td>-2169.695484</td>\n",
       "      <td>-4874.502357</td>\n",
       "      <td>-768.024848</td>\n",
       "      <td>-2164.290416</td>\n",
       "      <td>-1350.976760</td>\n",
       "      <td>-1881.067453</td>\n",
       "      <td>...</td>\n",
       "      <td>-6179.331332</td>\n",
       "      <td>-4863.620844</td>\n",
       "      <td>-2202.800982</td>\n",
       "      <td>-1614.986951</td>\n",
       "      <td>-8199.106613</td>\n",
       "      <td>-968.965623</td>\n",
       "      <td>-3693.223742</td>\n",
       "      <td>-2545.327729</td>\n",
       "      <td>-4818.562359</td>\n",
       "      <td>-3555.493445</td>\n",
       "    </tr>\n",
       "    <tr>\n",
       "      <th>Mac2</th>\n",
       "      <td>-1650.093455</td>\n",
       "      <td>-3898.382490</td>\n",
       "      <td>-2549.622862</td>\n",
       "      <td>-1818.787785</td>\n",
       "      <td>-2190.797110</td>\n",
       "      <td>-4998.181521</td>\n",
       "      <td>-839.774536</td>\n",
       "      <td>-2223.958431</td>\n",
       "      <td>-1467.777593</td>\n",
       "      <td>-1897.131875</td>\n",
       "      <td>...</td>\n",
       "      <td>-6369.762501</td>\n",
       "      <td>-4978.422503</td>\n",
       "      <td>-2258.133702</td>\n",
       "      <td>-1651.851662</td>\n",
       "      <td>-8236.201415</td>\n",
       "      <td>-984.533170</td>\n",
       "      <td>-3747.722232</td>\n",
       "      <td>-2586.727847</td>\n",
       "      <td>-4913.379565</td>\n",
       "      <td>-3587.726096</td>\n",
       "    </tr>\n",
       "  </tbody>\n",
       "</table>\n",
       "<p>5 rows × 35358 columns</p>\n",
       "</div>"
      ],
      "text/plain": [
       "             0            1            2            3            4      \\\n",
       "Mac1  -1625.227902 -3757.041910 -2488.629885 -1773.142636 -2130.073564   \n",
       "DC1   -1645.671513 -3962.437781 -2479.818125 -1763.858226 -2074.437328   \n",
       "DC3   -1655.931918 -3918.906346 -2482.642368 -1781.096411 -2096.205709   \n",
       "Mono3 -1638.799124 -3439.758871 -2509.675886 -1737.780949 -2169.695484   \n",
       "Mac2  -1650.093455 -3898.382490 -2549.622862 -1818.787785 -2190.797110   \n",
       "\n",
       "             5           6            7            8            9      ...  \\\n",
       "Mac1  -4817.528489 -814.193230 -2167.657116 -1430.989031 -1868.892945  ...   \n",
       "DC1   -4738.976058 -865.885944 -2155.920275 -1509.025566 -1887.504846  ...   \n",
       "DC3   -4436.082208 -858.909114 -2152.940119 -1491.280640 -1889.003279  ...   \n",
       "Mono3 -4874.502357 -768.024848 -2164.290416 -1350.976760 -1881.067453  ...   \n",
       "Mac2  -4998.181521 -839.774536 -2223.958431 -1467.777593 -1897.131875  ...   \n",
       "\n",
       "             35348        35349        35350        35351        35352  \\\n",
       "Mac1  -6140.197042 -4784.231735 -2186.351560 -1595.204412 -8069.469067   \n",
       "DC1   -6126.002926 -4712.543523 -2171.966556 -1563.363786 -7946.930918   \n",
       "DC3   -5747.414860 -4361.241097 -2103.602341 -1491.370985 -8071.792746   \n",
       "Mono3 -6179.331332 -4863.620844 -2202.800982 -1614.986951 -8199.106613   \n",
       "Mac2  -6369.762501 -4978.422503 -2258.133702 -1651.851662 -8236.201415   \n",
       "\n",
       "            35353        35354        35355        35356        35357  \n",
       "Mac1  -949.878185 -3591.251020 -2504.314787 -4754.326110 -3506.113237  \n",
       "DC1   -940.568923 -3529.483387 -2460.491064 -4723.873380 -3642.771109  \n",
       "DC3   -897.652042 -3298.959111 -2334.382484 -4414.932476 -3661.789910  \n",
       "Mono3 -968.965623 -3693.223742 -2545.327729 -4818.562359 -3555.493445  \n",
       "Mac2  -984.533170 -3747.722232 -2586.727847 -4913.379565 -3587.726096  \n",
       "\n",
       "[5 rows x 35358 columns]"
      ]
     },
     "execution_count": 21,
     "metadata": {},
     "output_type": "execute_result"
    }
   ],
   "source": [
    "bay.head()"
   ]
  }
 ],
 "metadata": {
  "kernelspec": {
   "display_name": "Python 3",
   "language": "python",
   "name": "python3"
  },
  "language_info": {
   "codemirror_mode": {
    "name": "ipython",
    "version": 3
   },
   "file_extension": ".py",
   "mimetype": "text/x-python",
   "name": "python",
   "nbconvert_exporter": "python",
   "pygments_lexer": "ipython3",
   "version": "3.6.10"
  }
 },
 "nbformat": 4,
 "nbformat_minor": 4
}
